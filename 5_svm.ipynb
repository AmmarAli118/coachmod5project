{
 "cells": [
  {
   "cell_type": "code",
   "execution_count": 1,
   "metadata": {},
   "outputs": [],
   "source": [
    "import pandas as pd\n",
    "import numpy as np\n",
    "import matplotlib.pyplot as plt\n",
    "%matplotlib inline\n",
    "from sklearn.model_selection import GridSearchCV\n",
    "from sklearn.svm import SVC\n",
    "from sklearn.metrics import classification_report, confusion_matrix, accuracy_score, f1_score"
   ]
  },
  {
   "cell_type": "code",
   "execution_count": 2,
   "metadata": {},
   "outputs": [],
   "source": [
    "X_train = pd.read_pickle('./data/X_train_pickle.pkl')\n",
    "X_test = pd.read_pickle('./data/X_test_pickle.pkl')\n",
    "y_train = pd.read_pickle('./data/y_train_pickle.pkl')\n",
    "y_test = pd.read_pickle('./data/y_test_pickle.pkl')"
   ]
  },
  {
   "cell_type": "markdown",
   "metadata": {},
   "source": [
    "# Beginning of GridSearch"
   ]
  },
  {
   "cell_type": "code",
   "execution_count": 3,
   "metadata": {},
   "outputs": [],
   "source": [
    "# adjust the variables to your liking.\n",
    "degree = range(1,5)\n",
    "kernel = ['linear', 'poly', 'rbf','sigmoid']\n",
    "cv = 5"
   ]
  },
  {
   "cell_type": "code",
   "execution_count": 4,
   "metadata": {},
   "outputs": [
    {
     "name": "stdout",
     "output_type": "stream",
     "text": [
      "Fitting 5 folds for each of 28 candidates, totalling 140 fits\n",
      "[Parallel(n_jobs=-2)]: Using backend LokyBackend with 7 concurrent workers.\n",
      "[Parallel(n_jobs=-2)]: Done   1 tasks      | elapsed:   56.3s\n",
      "[Parallel(n_jobs=-2)]: Done   2 tasks      | elapsed:   56.7s\n",
      "[Parallel(n_jobs=-2)]: Done   3 tasks      | elapsed:  1.4min\n",
      "[Parallel(n_jobs=-2)]: Done   4 tasks      | elapsed:  1.4min\n",
      "[Parallel(n_jobs=-2)]: Done   5 tasks      | elapsed:  1.4min\n",
      "[Parallel(n_jobs=-2)]: Done   6 tasks      | elapsed:  1.4min\n",
      "[Parallel(n_jobs=-2)]: Done   7 tasks      | elapsed:  1.4min\n",
      "[Parallel(n_jobs=-2)]: Done   8 tasks      | elapsed:  1.8min\n",
      "[Parallel(n_jobs=-2)]: Done   9 tasks      | elapsed:  1.8min\n",
      "[Parallel(n_jobs=-2)]: Done  10 tasks      | elapsed:  2.3min\n",
      "[Parallel(n_jobs=-2)]: Done  11 tasks      | elapsed:  2.4min\n",
      "[Parallel(n_jobs=-2)]: Done  12 tasks      | elapsed:  2.5min\n",
      "[Parallel(n_jobs=-2)]: Done  13 tasks      | elapsed:  2.5min\n",
      "[Parallel(n_jobs=-2)]: Done  14 tasks      | elapsed:  2.5min\n",
      "[Parallel(n_jobs=-2)]: Done  15 tasks      | elapsed:  2.8min\n",
      "[Parallel(n_jobs=-2)]: Done  16 tasks      | elapsed:  2.8min\n",
      "[Parallel(n_jobs=-2)]: Done  17 tasks      | elapsed:  3.2min\n",
      "[Parallel(n_jobs=-2)]: Done  18 tasks      | elapsed:  3.4min\n",
      "[Parallel(n_jobs=-2)]: Done  19 tasks      | elapsed:  3.4min\n",
      "[Parallel(n_jobs=-2)]: Done  20 tasks      | elapsed:  3.4min\n",
      "[Parallel(n_jobs=-2)]: Done  21 tasks      | elapsed:  3.9min\n",
      "[Parallel(n_jobs=-2)]: Done  22 tasks      | elapsed:  4.3min\n",
      "[Parallel(n_jobs=-2)]: Done  23 tasks      | elapsed:  4.3min\n",
      "[Parallel(n_jobs=-2)]: Done  24 tasks      | elapsed:  4.5min\n",
      "[Parallel(n_jobs=-2)]: Done  25 tasks      | elapsed:  4.5min\n",
      "[Parallel(n_jobs=-2)]: Done  26 tasks      | elapsed:  4.7min\n",
      "[Parallel(n_jobs=-2)]: Done  27 tasks      | elapsed:  4.9min\n",
      "[Parallel(n_jobs=-2)]: Done  28 tasks      | elapsed:  5.1min\n",
      "[Parallel(n_jobs=-2)]: Done  29 tasks      | elapsed:  5.5min\n",
      "[Parallel(n_jobs=-2)]: Done  30 tasks      | elapsed:  5.6min\n",
      "[Parallel(n_jobs=-2)]: Done  31 tasks      | elapsed:  5.8min\n",
      "[Parallel(n_jobs=-2)]: Done  32 tasks      | elapsed:  5.8min\n",
      "[Parallel(n_jobs=-2)]: Done  33 tasks      | elapsed:  5.9min\n",
      "[Parallel(n_jobs=-2)]: Done  34 tasks      | elapsed:  6.1min\n",
      "[Parallel(n_jobs=-2)]: Done  35 tasks      | elapsed:  6.3min\n",
      "[Parallel(n_jobs=-2)]: Done  36 tasks      | elapsed:  6.5min\n",
      "[Parallel(n_jobs=-2)]: Done  37 tasks      | elapsed:  6.6min\n",
      "[Parallel(n_jobs=-2)]: Done  38 tasks      | elapsed:  6.8min\n",
      "[Parallel(n_jobs=-2)]: Done  39 tasks      | elapsed:  6.8min\n",
      "[Parallel(n_jobs=-2)]: Done  40 tasks      | elapsed:  6.9min\n",
      "[Parallel(n_jobs=-2)]: Done  41 tasks      | elapsed:  7.6min\n",
      "[Parallel(n_jobs=-2)]: Done  42 tasks      | elapsed:  7.8min\n",
      "[Parallel(n_jobs=-2)]: Done  43 tasks      | elapsed:  7.9min\n",
      "[Parallel(n_jobs=-2)]: Done  44 tasks      | elapsed:  8.0min\n",
      "[Parallel(n_jobs=-2)]: Done  45 tasks      | elapsed:  8.0min\n",
      "[Parallel(n_jobs=-2)]: Done  46 tasks      | elapsed:  8.0min\n",
      "[Parallel(n_jobs=-2)]: Done  47 tasks      | elapsed:  8.2min\n",
      "[Parallel(n_jobs=-2)]: Done  48 tasks      | elapsed:  8.8min\n",
      "[Parallel(n_jobs=-2)]: Done  49 tasks      | elapsed:  9.0min\n",
      "[Parallel(n_jobs=-2)]: Done  50 tasks      | elapsed:  9.1min\n",
      "[Parallel(n_jobs=-2)]: Done  51 tasks      | elapsed:  9.2min\n",
      "[Parallel(n_jobs=-2)]: Done  52 tasks      | elapsed:  9.2min\n",
      "[Parallel(n_jobs=-2)]: Done  53 tasks      | elapsed:  9.2min\n",
      "[Parallel(n_jobs=-2)]: Done  54 tasks      | elapsed:  9.4min\n",
      "[Parallel(n_jobs=-2)]: Done  55 tasks      | elapsed:  9.9min\n",
      "[Parallel(n_jobs=-2)]: Done  56 tasks      | elapsed:  9.9min\n",
      "[Parallel(n_jobs=-2)]: Done  57 tasks      | elapsed: 10.1min\n",
      "[Parallel(n_jobs=-2)]: Done  58 tasks      | elapsed: 10.1min\n",
      "[Parallel(n_jobs=-2)]: Done  59 tasks      | elapsed: 10.2min\n",
      "[Parallel(n_jobs=-2)]: Done  60 tasks      | elapsed: 10.2min\n",
      "[Parallel(n_jobs=-2)]: Done  61 tasks      | elapsed: 10.8min\n",
      "[Parallel(n_jobs=-2)]: Done  62 tasks      | elapsed: 11.3min\n",
      "[Parallel(n_jobs=-2)]: Done  63 tasks      | elapsed: 11.3min\n",
      "[Parallel(n_jobs=-2)]: Done  64 tasks      | elapsed: 11.3min\n",
      "[Parallel(n_jobs=-2)]: Done  65 tasks      | elapsed: 11.4min\n",
      "[Parallel(n_jobs=-2)]: Done  66 tasks      | elapsed: 11.4min\n",
      "[Parallel(n_jobs=-2)]: Done  67 tasks      | elapsed: 11.5min\n",
      "[Parallel(n_jobs=-2)]: Done  68 tasks      | elapsed: 12.0min\n",
      "[Parallel(n_jobs=-2)]: Done  69 tasks      | elapsed: 12.4min\n",
      "[Parallel(n_jobs=-2)]: Done  70 tasks      | elapsed: 12.5min\n",
      "[Parallel(n_jobs=-2)]: Done  71 tasks      | elapsed: 12.5min\n",
      "[Parallel(n_jobs=-2)]: Done  72 tasks      | elapsed: 12.5min\n",
      "[Parallel(n_jobs=-2)]: Done  73 tasks      | elapsed: 12.5min\n",
      "[Parallel(n_jobs=-2)]: Done  74 tasks      | elapsed: 12.5min\n",
      "[Parallel(n_jobs=-2)]: Done  75 tasks      | elapsed: 13.0min\n",
      "[Parallel(n_jobs=-2)]: Done  76 tasks      | elapsed: 13.3min\n",
      "[Parallel(n_jobs=-2)]: Done  77 tasks      | elapsed: 13.4min\n",
      "[Parallel(n_jobs=-2)]: Done  78 tasks      | elapsed: 13.4min\n",
      "[Parallel(n_jobs=-2)]: Done  79 tasks      | elapsed: 13.4min\n",
      "[Parallel(n_jobs=-2)]: Done  80 tasks      | elapsed: 13.4min\n",
      "[Parallel(n_jobs=-2)]: Done  81 tasks      | elapsed: 13.9min\n",
      "[Parallel(n_jobs=-2)]: Done  82 tasks      | elapsed: 14.4min\n",
      "[Parallel(n_jobs=-2)]: Done  83 tasks      | elapsed: 14.7min\n",
      "[Parallel(n_jobs=-2)]: Done  84 tasks      | elapsed: 14.7min\n",
      "[Parallel(n_jobs=-2)]: Done  85 tasks      | elapsed: 14.7min\n",
      "[Parallel(n_jobs=-2)]: Done  86 tasks      | elapsed: 14.7min\n",
      "[Parallel(n_jobs=-2)]: Done  87 tasks      | elapsed: 14.8min\n",
      "[Parallel(n_jobs=-2)]: Done  88 tasks      | elapsed: 15.1min\n",
      "[Parallel(n_jobs=-2)]: Done  89 tasks      | elapsed: 15.6min\n",
      "[Parallel(n_jobs=-2)]: Done  90 tasks      | elapsed: 15.7min\n",
      "[Parallel(n_jobs=-2)]: Done  91 tasks      | elapsed: 15.8min\n",
      "[Parallel(n_jobs=-2)]: Done  92 tasks      | elapsed: 15.8min\n",
      "[Parallel(n_jobs=-2)]: Done  93 tasks      | elapsed: 15.8min\n",
      "[Parallel(n_jobs=-2)]: Done  94 tasks      | elapsed: 15.9min\n",
      "[Parallel(n_jobs=-2)]: Done  95 tasks      | elapsed: 16.2min\n",
      "[Parallel(n_jobs=-2)]: Done  96 tasks      | elapsed: 16.6min\n",
      "[Parallel(n_jobs=-2)]: Done  97 tasks      | elapsed: 16.7min\n",
      "[Parallel(n_jobs=-2)]: Done  98 tasks      | elapsed: 16.7min\n",
      "[Parallel(n_jobs=-2)]: Done  99 tasks      | elapsed: 16.7min\n",
      "[Parallel(n_jobs=-2)]: Done 100 tasks      | elapsed: 16.7min\n",
      "[Parallel(n_jobs=-2)]: Done 101 tasks      | elapsed: 17.2min\n",
      "[Parallel(n_jobs=-2)]: Done 102 tasks      | elapsed: 17.5min\n",
      "[Parallel(n_jobs=-2)]: Done 103 tasks      | elapsed: 17.9min\n",
      "[Parallel(n_jobs=-2)]: Done 104 tasks      | elapsed: 17.9min\n",
      "[Parallel(n_jobs=-2)]: Done 105 tasks      | elapsed: 17.9min\n",
      "[Parallel(n_jobs=-2)]: Done 106 tasks      | elapsed: 18.1min\n",
      "[Parallel(n_jobs=-2)]: Done 107 tasks      | elapsed: 18.1min\n",
      "[Parallel(n_jobs=-2)]: Done 108 tasks      | elapsed: 18.6min\n",
      "[Parallel(n_jobs=-2)]: Done 109 tasks      | elapsed: 18.9min\n",
      "[Parallel(n_jobs=-2)]: Done 110 tasks      | elapsed: 18.9min\n",
      "[Parallel(n_jobs=-2)]: Done 111 tasks      | elapsed: 18.9min\n",
      "[Parallel(n_jobs=-2)]: Done 112 tasks      | elapsed: 19.1min\n",
      "[Parallel(n_jobs=-2)]: Done 113 tasks      | elapsed: 19.1min\n",
      "[Parallel(n_jobs=-2)]: Done 114 tasks      | elapsed: 19.2min\n",
      "[Parallel(n_jobs=-2)]: Done 115 tasks      | elapsed: 19.6min\n",
      "[Parallel(n_jobs=-2)]: Done 116 tasks      | elapsed: 19.8min\n",
      "[Parallel(n_jobs=-2)]: Done 117 tasks      | elapsed: 19.8min\n",
      "[Parallel(n_jobs=-2)]: Done 118 tasks      | elapsed: 19.8min\n",
      "[Parallel(n_jobs=-2)]: Done 119 tasks      | elapsed: 19.9min\n",
      "[Parallel(n_jobs=-2)]: Done 120 tasks      | elapsed: 20.0min\n",
      "[Parallel(n_jobs=-2)]: Done 121 tasks      | elapsed: 20.5min\n",
      "[Parallel(n_jobs=-2)]: Done 122 tasks      | elapsed: 20.9min\n",
      "[Parallel(n_jobs=-2)]: Done 123 tasks      | elapsed: 21.1min\n",
      "[Parallel(n_jobs=-2)]: Done 124 tasks      | elapsed: 21.1min\n",
      "[Parallel(n_jobs=-2)]: Done 125 tasks      | elapsed: 21.1min\n",
      "[Parallel(n_jobs=-2)]: Done 126 tasks      | elapsed: 21.5min\n",
      "[Parallel(n_jobs=-2)]: Done 127 tasks      | elapsed: 21.6min\n",
      "[Parallel(n_jobs=-2)]: Done 130 out of 140 | elapsed: 22.1min remaining:  1.7min\n",
      "[Parallel(n_jobs=-2)]: Done 133 out of 140 | elapsed: 22.6min remaining:  1.2min\n",
      "[Parallel(n_jobs=-2)]: Done 136 out of 140 | elapsed: 22.9min remaining:   40.5s\n",
      "[Parallel(n_jobs=-2)]: Done 140 out of 140 | elapsed: 23.3min finished\n"
     ]
    },
    {
     "name": "stderr",
     "output_type": "stream",
     "text": [
      "/anaconda3/lib/python3.7/site-packages/sklearn/svm/base.py:193: FutureWarning: The default value of gamma will change from 'auto' to 'scale' in version 0.22 to account better for unscaled features. Set gamma explicitly to 'auto' or 'scale' to avoid this warning.\n",
      "  \"avoid this warning.\", FutureWarning)\n"
     ]
    },
    {
     "name": "stdout",
     "output_type": "stream",
     "text": [
      "Stored 'svm_grid_search' (GridSearchCV)\n"
     ]
    }
   ],
   "source": [
    "# Run this cell once to save results to your disk.\n",
    "# Will take about 25 minutes to run. \n",
    "svm = SVC()\n",
    "param_grid = [{'kernel': kernel,\n",
    "               'degree': degree,\n",
    "               'gamma': 'scale' }]\n",
    "\n",
    "svm_grid_search = GridSearchCV(svm, param_grid, cv=cv,  # Just passing in the variables declared above\n",
    "                               scoring='f1',\n",
    "                               n_jobs=-2,               # Uses all but one of machine's processors.\n",
    "                               return_train_score=True, # ???\n",
    "                               verbose=50)              # verbose > 0 gives us a progress bar to check on.\n",
    "svm_grid_search.fit(X_train, y_train)\n",
    "%store svm_grid_search"
   ]
  },
  {
   "cell_type": "markdown",
   "metadata": {},
   "source": [
    "# End of GridSearch"
   ]
  },
  {
   "cell_type": "code",
   "execution_count": 7,
   "metadata": {},
   "outputs": [
    {
     "data": {
      "text/plain": [
       "SVC(C=1.0, cache_size=200, class_weight=None, coef0=0.0,\n",
       "    decision_function_shape='ovr', degree=1, gamma='auto_deprecated',\n",
       "    kernel='poly', max_iter=-1, probability=False, random_state=None,\n",
       "    shrinking=True, tol=0.001, verbose=False)"
      ]
     },
     "execution_count": 7,
     "metadata": {},
     "output_type": "execute_result"
    }
   ],
   "source": [
    "%store -r svm_grid_search\n",
    "svm_grid_search.best_estimator_"
   ]
  },
  {
   "cell_type": "code",
   "execution_count": 8,
   "metadata": {},
   "outputs": [
    {
     "name": "stdout",
     "output_type": "stream",
     "text": [
      "SVM accuracy:84.297 and SVM F1:64.34\n",
      "Stored 'svm' (dict)\n"
     ]
    }
   ],
   "source": [
    "y_pred = svm_grid_search.predict(X_test)\n",
    "svm_acc = round(accuracy_score(y_test, y_pred)*100, 3)\n",
    "svm_f1 = round(svm_grid_search.best_score_*100, 3)\n",
    "print(\"SVM accuracy:{} and SVM F1:{}\".format(svm_acc, svm_f1))\n",
    "\n",
    "svm = {'accuracy': svm_acc,\n",
    "       'f1': svm_f1 }\n",
    "%store svm"
   ]
  },
  {
   "cell_type": "markdown",
   "metadata": {},
   "source": [
    "# Linear SVM"
   ]
  },
  {
   "cell_type": "code",
   "execution_count": 4,
   "metadata": {},
   "outputs": [
    {
     "data": {
      "text/plain": [
       "SVC(C=1.0, cache_size=200, class_weight=None, coef0=0.0,\n",
       "    decision_function_shape='ovr', degree=3, gamma='auto_deprecated',\n",
       "    kernel='linear', max_iter=-1, probability=False, random_state=None,\n",
       "    shrinking=True, tol=0.001, verbose=False)"
      ]
     },
     "execution_count": 4,
     "metadata": {},
     "output_type": "execute_result"
    }
   ],
   "source": [
    "svclassifier = SVC(kernel='linear')\n",
    "svclassifier.fit(X_train, y_train)"
   ]
  },
  {
   "cell_type": "code",
   "execution_count": 5,
   "metadata": {},
   "outputs": [],
   "source": [
    "y_pred = svclassifier.predict(X_test)"
   ]
  },
  {
   "cell_type": "code",
   "execution_count": 6,
   "metadata": {},
   "outputs": [
    {
     "name": "stdout",
     "output_type": "stream",
     "text": [
      "[[4201  326]\n",
      " [ 624  848]]\n",
      "              precision    recall  f1-score   support\n",
      "\n",
      "           0       0.87      0.93      0.90      4527\n",
      "           1       0.72      0.58      0.64      1472\n",
      "\n",
      "    accuracy                           0.84      5999\n",
      "   macro avg       0.80      0.75      0.77      5999\n",
      "weighted avg       0.83      0.84      0.84      5999\n",
      "\n"
     ]
    }
   ],
   "source": [
    "print(confusion_matrix(y_test,y_pred))\n",
    "print(classification_report(y_test,y_pred))"
   ]
  },
  {
   "cell_type": "markdown",
   "metadata": {},
   "source": [
    "# Polynomial Kernel"
   ]
  },
  {
   "cell_type": "code",
   "execution_count": 23,
   "metadata": {},
   "outputs": [
    {
     "name": "stdout",
     "output_type": "stream",
     "text": [
      "this is the result of 0 degrees\n",
      "[[4527    0]\n",
      " [1472    0]]\n",
      "              precision    recall  f1-score   support\n",
      "\n",
      "           0       0.75      1.00      0.86      4527\n",
      "           1       0.00      0.00      0.00      1472\n",
      "\n",
      "    accuracy                           0.75      5999\n",
      "   macro avg       0.38      0.50      0.43      5999\n",
      "weighted avg       0.57      0.75      0.65      5999\n",
      "\n"
     ]
    },
    {
     "name": "stderr",
     "output_type": "stream",
     "text": [
      "/anaconda3/lib/python3.7/site-packages/sklearn/metrics/classification.py:1437: UndefinedMetricWarning: Precision and F-score are ill-defined and being set to 0.0 in labels with no predicted samples.\n",
      "  'precision', 'predicted', average, warn_for)\n"
     ]
    },
    {
     "name": "stdout",
     "output_type": "stream",
     "text": [
      "this is the result of 1 degrees\n",
      "[[4208  319]\n",
      " [ 622  850]]\n",
      "              precision    recall  f1-score   support\n",
      "\n",
      "           0       0.87      0.93      0.90      4527\n",
      "           1       0.73      0.58      0.64      1472\n",
      "\n",
      "    accuracy                           0.84      5999\n",
      "   macro avg       0.80      0.75      0.77      5999\n",
      "weighted avg       0.84      0.84      0.84      5999\n",
      "\n",
      "this is the result of 2 degrees\n",
      "[[4256  271]\n",
      " [ 692  780]]\n",
      "              precision    recall  f1-score   support\n",
      "\n",
      "           0       0.86      0.94      0.90      4527\n",
      "           1       0.74      0.53      0.62      1472\n",
      "\n",
      "    accuracy                           0.84      5999\n",
      "   macro avg       0.80      0.74      0.76      5999\n",
      "weighted avg       0.83      0.84      0.83      5999\n",
      "\n",
      "this is the result of 3 degrees\n",
      "[[4239  288]\n",
      " [ 704  768]]\n",
      "              precision    recall  f1-score   support\n",
      "\n",
      "           0       0.86      0.94      0.90      4527\n",
      "           1       0.73      0.52      0.61      1472\n",
      "\n",
      "    accuracy                           0.83      5999\n",
      "   macro avg       0.79      0.73      0.75      5999\n",
      "weighted avg       0.83      0.83      0.82      5999\n",
      "\n",
      "this is the result of 4 degrees\n",
      "[[4337  190]\n",
      " [ 927  545]]\n",
      "              precision    recall  f1-score   support\n",
      "\n",
      "           0       0.82      0.96      0.89      4527\n",
      "           1       0.74      0.37      0.49      1472\n",
      "\n",
      "    accuracy                           0.81      5999\n",
      "   macro avg       0.78      0.66      0.69      5999\n",
      "weighted avg       0.80      0.81      0.79      5999\n",
      "\n",
      "this is the result of 5 degrees\n",
      "[[4387  140]\n",
      " [1086  386]]\n",
      "              precision    recall  f1-score   support\n",
      "\n",
      "           0       0.80      0.97      0.88      4527\n",
      "           1       0.73      0.26      0.39      1472\n",
      "\n",
      "    accuracy                           0.80      5999\n",
      "   macro avg       0.77      0.62      0.63      5999\n",
      "weighted avg       0.78      0.80      0.76      5999\n",
      "\n",
      "this is the result of 6 degrees\n",
      "[[4416  111]\n",
      " [1178  294]]\n",
      "              precision    recall  f1-score   support\n",
      "\n",
      "           0       0.79      0.98      0.87      4527\n",
      "           1       0.73      0.20      0.31      1472\n",
      "\n",
      "    accuracy                           0.79      5999\n",
      "   macro avg       0.76      0.59      0.59      5999\n",
      "weighted avg       0.77      0.79      0.74      5999\n",
      "\n",
      "this is the result of 7 degrees\n",
      "[[4430   97]\n",
      " [1222  250]]\n",
      "              precision    recall  f1-score   support\n",
      "\n",
      "           0       0.78      0.98      0.87      4527\n",
      "           1       0.72      0.17      0.27      1472\n",
      "\n",
      "    accuracy                           0.78      5999\n",
      "   macro avg       0.75      0.57      0.57      5999\n",
      "weighted avg       0.77      0.78      0.72      5999\n",
      "\n",
      "A degree of 1 results in the highest accuracy of 0.843\n"
     ]
    }
   ],
   "source": [
    "scores = {}\n",
    "for num in range(1,8):\n",
    "    svclassifier = SVC(kernel='poly', degree=num, gamma='scale')\n",
    "    svclassifier.fit(X_train, y_train)\n",
    "    y_pred = svclassifier.predict(X_test)\n",
    "    scores[num] = accuracy_score(y_test, y_pred)\n",
    "\n",
    "high = 0\n",
    "for degree, accuracy in scores.items():\n",
    "    if accuracy > high:\n",
    "        high = accuracy\n",
    "        deg = degree\n",
    "print(\"A degree of {} results in the highest accuracy of {}\".format(deg, round(high, 3)))"
   ]
  },
  {
   "cell_type": "code",
   "execution_count": null,
   "metadata": {},
   "outputs": [],
   "source": [
    "svclassifier = SVC(kernel='poly', degree=1, gamma='scale')\n",
    "svclassifier.fit(X_train, y_train)\n",
    "y_pred = svclassifier.predict(X_test)\n",
    "print(confusion_matrix(y_test, y_pred))\n",
    "print(classification_report(y_test, y_pred))"
   ]
  },
  {
   "cell_type": "markdown",
   "metadata": {},
   "source": [
    "# Gaussian Kernel"
   ]
  },
  {
   "cell_type": "code",
   "execution_count": 24,
   "metadata": {},
   "outputs": [
    {
     "name": "stderr",
     "output_type": "stream",
     "text": [
      "/anaconda3/lib/python3.7/site-packages/sklearn/svm/base.py:193: FutureWarning: The default value of gamma will change from 'auto' to 'scale' in version 0.22 to account better for unscaled features. Set gamma explicitly to 'auto' or 'scale' to avoid this warning.\n",
      "  \"avoid this warning.\", FutureWarning)\n"
     ]
    },
    {
     "data": {
      "text/plain": [
       "SVC(C=1.0, cache_size=200, class_weight=None, coef0=0.0,\n",
       "    decision_function_shape='ovr', degree=3, gamma='auto_deprecated',\n",
       "    kernel='rbf', max_iter=-1, probability=False, random_state=None,\n",
       "    shrinking=True, tol=0.001, verbose=False)"
      ]
     },
     "execution_count": 24,
     "metadata": {},
     "output_type": "execute_result"
    }
   ],
   "source": [
    "svclassifier = SVC(kernel='rbf')\n",
    "svclassifier.fit(X_train, y_train)"
   ]
  },
  {
   "cell_type": "code",
   "execution_count": 25,
   "metadata": {},
   "outputs": [],
   "source": [
    "y_pred = svclassifier.predict(X_test)"
   ]
  },
  {
   "cell_type": "code",
   "execution_count": 26,
   "metadata": {},
   "outputs": [
    {
     "name": "stdout",
     "output_type": "stream",
     "text": [
      "[[4209  318]\n",
      " [ 637  835]]\n",
      "              precision    recall  f1-score   support\n",
      "\n",
      "           0       0.87      0.93      0.90      4527\n",
      "           1       0.72      0.57      0.64      1472\n",
      "\n",
      "    accuracy                           0.84      5999\n",
      "   macro avg       0.80      0.75      0.77      5999\n",
      "weighted avg       0.83      0.84      0.83      5999\n",
      "\n"
     ]
    }
   ],
   "source": [
    "print(confusion_matrix(y_test, y_pred))\n",
    "print(classification_report(y_test, y_pred))"
   ]
  },
  {
   "cell_type": "markdown",
   "metadata": {},
   "source": [
    "# Sigmoid Kernel"
   ]
  },
  {
   "cell_type": "code",
   "execution_count": 27,
   "metadata": {},
   "outputs": [
    {
     "name": "stderr",
     "output_type": "stream",
     "text": [
      "/anaconda3/lib/python3.7/site-packages/sklearn/svm/base.py:193: FutureWarning: The default value of gamma will change from 'auto' to 'scale' in version 0.22 to account better for unscaled features. Set gamma explicitly to 'auto' or 'scale' to avoid this warning.\n",
      "  \"avoid this warning.\", FutureWarning)\n"
     ]
    },
    {
     "data": {
      "text/plain": [
       "SVC(C=1.0, cache_size=200, class_weight=None, coef0=0.0,\n",
       "    decision_function_shape='ovr', degree=3, gamma='auto_deprecated',\n",
       "    kernel='sigmoid', max_iter=-1, probability=False, random_state=None,\n",
       "    shrinking=True, tol=0.001, verbose=False)"
      ]
     },
     "execution_count": 27,
     "metadata": {},
     "output_type": "execute_result"
    }
   ],
   "source": [
    "svclassifier = SVC(kernel='sigmoid')\n",
    "svclassifier.fit(X_train, y_train)"
   ]
  },
  {
   "cell_type": "code",
   "execution_count": 28,
   "metadata": {},
   "outputs": [],
   "source": [
    "y_pred = svclassifier.predict(X_test)"
   ]
  },
  {
   "cell_type": "code",
   "execution_count": 29,
   "metadata": {},
   "outputs": [
    {
     "name": "stdout",
     "output_type": "stream",
     "text": [
      "[[4092  435]\n",
      " [ 623  849]]\n",
      "              precision    recall  f1-score   support\n",
      "\n",
      "           0       0.87      0.90      0.89      4527\n",
      "           1       0.66      0.58      0.62      1472\n",
      "\n",
      "    accuracy                           0.82      5999\n",
      "   macro avg       0.76      0.74      0.75      5999\n",
      "weighted avg       0.82      0.82      0.82      5999\n",
      "\n"
     ]
    }
   ],
   "source": [
    "print(confusion_matrix(y_test, y_pred))\n",
    "print(classification_report(y_test, y_pred))"
   ]
  },
  {
   "cell_type": "markdown",
   "metadata": {},
   "source": [
    "# Fill in the variables below with actual results"
   ]
  },
  {
   "cell_type": "code",
   "execution_count": 1,
   "metadata": {},
   "outputs": [
    {
     "name": "stdout",
     "output_type": "stream",
     "text": [
      "Stored 'svm' (dict)\n"
     ]
    }
   ],
   "source": []
  },
  {
   "cell_type": "code",
   "execution_count": null,
   "metadata": {},
   "outputs": [],
   "source": []
  }
 ],
 "metadata": {
  "kernelspec": {
   "display_name": "Python 3",
   "language": "python",
   "name": "python3"
  },
  "language_info": {
   "codemirror_mode": {
    "name": "ipython",
    "version": 3
   },
   "file_extension": ".py",
   "mimetype": "text/x-python",
   "name": "python",
   "nbconvert_exporter": "python",
   "pygments_lexer": "ipython3",
   "version": "3.7.3"
  }
 },
 "nbformat": 4,
 "nbformat_minor": 4
}
