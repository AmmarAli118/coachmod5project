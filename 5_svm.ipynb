{
 "cells": [
  {
   "cell_type": "code",
   "execution_count": 1,
   "metadata": {},
   "outputs": [],
   "source": [
    "import pandas as pd\n",
    "import matplotlib.pyplot as plt\n",
    "%matplotlib inline\n",
    "from sklearn.svm import SVC\n",
    "from sklearn.model_selection import GridSearchCV\n",
    "from sklearn.metrics import accuracy_score, f1_score, confusion_matrix, classification_report\n",
    "\n",
    "X_train = pd.read_pickle('./data/X_train_pickle.pkl')\n",
    "X_test = pd.read_pickle('./data/X_test_pickle.pkl')\n",
    "y_train = pd.read_pickle('./data/y_train_pickle.pkl')\n",
    "y_test = pd.read_pickle('./data/y_test_pickle.pkl')"
   ]
  },
  {
   "cell_type": "markdown",
   "metadata": {},
   "source": [
    "# <span style=\"color:green\">Beginning of KNN GridSearch</span>\n",
    "\n",
    "#### Adjust the variables to your liking."
   ]
  },
  {
   "cell_type": "code",
   "execution_count": 2,
   "metadata": {},
   "outputs": [],
   "source": [
    "degree = range(1,5)                            # Set the range of degrees we want to test.\n",
    "kernel = ['linear', 'poly', 'rbf','sigmoid']   # Set GridSearch to compare against every form of SVM model.\n",
    "cv = 5                                         # Set CrossValidation"
   ]
  },
  {
   "cell_type": "markdown",
   "metadata": {},
   "source": [
    "### The cell below <span style=\"color:red\">10 minutes</span> to run \n",
    "The results will be saved to your disk allowing you to explore futher at a later time without needing to re-run this cell every time."
   ]
  },
  {
   "cell_type": "code",
   "execution_count": null,
   "metadata": {},
   "outputs": [
    {
     "name": "stdout",
     "output_type": "stream",
     "text": [
      "Fitting 5 folds for each of 16 candidates, totalling 80 fits\n",
      "[Parallel(n_jobs=-2)]: Using backend LokyBackend with 7 concurrent workers.\n",
      "[Parallel(n_jobs=-2)]: Done   1 tasks      | elapsed:  4.6min\n",
      "[Parallel(n_jobs=-2)]: Done   2 tasks      | elapsed:  4.7min\n",
      "[Parallel(n_jobs=-2)]: Done   3 tasks      | elapsed:  7.2min\n",
      "[Parallel(n_jobs=-2)]: Done   4 tasks      | elapsed:  7.2min\n",
      "[Parallel(n_jobs=-2)]: Done   5 tasks      | elapsed:  7.3min\n",
      "[Parallel(n_jobs=-2)]: Done   6 tasks      | elapsed:  7.3min\n",
      "[Parallel(n_jobs=-2)]: Done   7 tasks      | elapsed:  7.4min\n",
      "[Parallel(n_jobs=-2)]: Done   8 tasks      | elapsed:  9.2min\n",
      "[Parallel(n_jobs=-2)]: Done   9 tasks      | elapsed:  9.3min\n",
      "[Parallel(n_jobs=-2)]: Done  10 tasks      | elapsed: 11.6min\n",
      "[Parallel(n_jobs=-2)]: Done  11 tasks      | elapsed: 12.4min\n",
      "[Parallel(n_jobs=-2)]: Done  12 tasks      | elapsed: 12.5min\n",
      "[Parallel(n_jobs=-2)]: Done  13 tasks      | elapsed: 12.5min\n",
      "[Parallel(n_jobs=-2)]: Done  14 tasks      | elapsed: 12.6min\n",
      "[Parallel(n_jobs=-2)]: Done  15 tasks      | elapsed: 13.9min\n",
      "[Parallel(n_jobs=-2)]: Done  16 tasks      | elapsed: 14.3min\n",
      "[Parallel(n_jobs=-2)]: Done  17 tasks      | elapsed: 16.4min\n",
      "[Parallel(n_jobs=-2)]: Done  18 tasks      | elapsed: 17.2min\n",
      "[Parallel(n_jobs=-2)]: Done  19 tasks      | elapsed: 17.2min\n",
      "[Parallel(n_jobs=-2)]: Done  20 tasks      | elapsed: 17.2min\n",
      "[Parallel(n_jobs=-2)]: Done  21 tasks      | elapsed: 19.5min\n",
      "[Parallel(n_jobs=-2)]: Done  22 tasks      | elapsed: 21.0min\n",
      "[Parallel(n_jobs=-2)]: Done  23 tasks      | elapsed: 21.2min\n",
      "[Parallel(n_jobs=-2)]: Done  24 tasks      | elapsed: 22.3min\n",
      "[Parallel(n_jobs=-2)]: Done  25 tasks      | elapsed: 22.4min\n",
      "[Parallel(n_jobs=-2)]: Done  26 tasks      | elapsed: 23.5min\n",
      "[Parallel(n_jobs=-2)]: Done  27 tasks      | elapsed: 24.1min\n",
      "[Parallel(n_jobs=-2)]: Done  28 tasks      | elapsed: 24.6min\n",
      "[Parallel(n_jobs=-2)]: Done  29 tasks      | elapsed: 26.0min\n",
      "[Parallel(n_jobs=-2)]: Done  30 tasks      | elapsed: 26.2min\n",
      "[Parallel(n_jobs=-2)]: Done  31 tasks      | elapsed: 27.5min\n",
      "[Parallel(n_jobs=-2)]: Done  32 tasks      | elapsed: 27.6min\n",
      "[Parallel(n_jobs=-2)]: Done  33 tasks      | elapsed: 28.6min\n",
      "[Parallel(n_jobs=-2)]: Done  34 tasks      | elapsed: 29.3min\n",
      "[Parallel(n_jobs=-2)]: Done  35 tasks      | elapsed: 29.6min\n",
      "[Parallel(n_jobs=-2)]: Done  36 tasks      | elapsed: 30.6min\n",
      "[Parallel(n_jobs=-2)]: Done  37 tasks      | elapsed: 30.9min\n",
      "[Parallel(n_jobs=-2)]: Done  38 tasks      | elapsed: 32.2min\n",
      "[Parallel(n_jobs=-2)]: Done  39 tasks      | elapsed: 32.4min\n",
      "[Parallel(n_jobs=-2)]: Done  40 tasks      | elapsed: 33.4min\n",
      "[Parallel(n_jobs=-2)]: Done  41 tasks      | elapsed: 36.1min\n",
      "[Parallel(n_jobs=-2)]: Done  42 tasks      | elapsed: 36.7min\n",
      "[Parallel(n_jobs=-2)]: Done  43 tasks      | elapsed: 37.5min\n",
      "[Parallel(n_jobs=-2)]: Done  44 tasks      | elapsed: 37.6min\n",
      "[Parallel(n_jobs=-2)]: Done  45 tasks      | elapsed: 37.8min\n",
      "[Parallel(n_jobs=-2)]: Done  46 tasks      | elapsed: 38.6min\n",
      "[Parallel(n_jobs=-2)]: Done  47 tasks      | elapsed: 39.0min\n",
      "[Parallel(n_jobs=-2)]: Done  48 tasks      | elapsed: 41.3min\n",
      "[Parallel(n_jobs=-2)]: Done  49 tasks      | elapsed: 41.9min\n",
      "[Parallel(n_jobs=-2)]: Done  50 tasks      | elapsed: 42.6min\n",
      "[Parallel(n_jobs=-2)]: Done  51 tasks      | elapsed: 42.7min\n",
      "[Parallel(n_jobs=-2)]: Done  52 tasks      | elapsed: 43.0min\n",
      "[Parallel(n_jobs=-2)]: Done  53 tasks      | elapsed: 43.7min\n",
      "[Parallel(n_jobs=-2)]: Done  54 tasks      | elapsed: 44.2min\n",
      "[Parallel(n_jobs=-2)]: Done  55 tasks      | elapsed: 46.4min\n",
      "[Parallel(n_jobs=-2)]: Done  56 tasks      | elapsed: 46.5min\n",
      "[Parallel(n_jobs=-2)]: Done  57 tasks      | elapsed: 47.4min\n",
      "[Parallel(n_jobs=-2)]: Done  58 tasks      | elapsed: 47.4min\n",
      "[Parallel(n_jobs=-2)]: Done  59 tasks      | elapsed: 47.8min\n",
      "[Parallel(n_jobs=-2)]: Done  60 tasks      | elapsed: 48.4min\n",
      "[Parallel(n_jobs=-2)]: Done  61 tasks      | elapsed: 51.0min\n",
      "[Parallel(n_jobs=-2)]: Done  62 tasks      | elapsed: 53.3min\n",
      "[Parallel(n_jobs=-2)]: Done  63 tasks      | elapsed: 53.3min\n",
      "[Parallel(n_jobs=-2)]: Done  64 tasks      | elapsed: 53.5min\n",
      "[Parallel(n_jobs=-2)]: Done  65 tasks      | elapsed: 54.2min\n",
      "[Parallel(n_jobs=-2)]: Done  66 tasks      | elapsed: 54.2min\n",
      "[Parallel(n_jobs=-2)]: Done  67 tasks      | elapsed: 54.3min\n",
      "[Parallel(n_jobs=-2)]: Done  69 out of  80 | elapsed: 58.6min remaining:  9.3min\n",
      "[Parallel(n_jobs=-2)]: Done  71 out of  80 | elapsed: 59.1min remaining:  7.5min\n",
      "[Parallel(n_jobs=-2)]: Done  73 out of  80 | elapsed: 59.4min remaining:  5.7min\n",
      "[Parallel(n_jobs=-2)]: Done  75 out of  80 | elapsed: 61.5min remaining:  4.1min\n",
      "[Parallel(n_jobs=-2)]: Done  77 out of  80 | elapsed: 64.2min remaining:  2.5min\n",
      "[Parallel(n_jobs=-2)]: Done  80 out of  80 | elapsed: 64.6min finished\n"
     ]
    }
   ],
   "source": [
    "svm = SVC(gamma='scale',    # Set gamma to 'scale' since we scaled our data.\n",
    "          probability=True) # We want to return the probability so that we can use it for the ROC curve in our comparison notebook.\n",
    "\n",
    "# set grid search parameters based on variables assigned above.\n",
    "param_grid = [{'kernel': kernel,\n",
    "               'degree': degree}]\n",
    "\n",
    "svm_grid_search = GridSearchCV(svm, param_grid, cv=cv,  # Just passing in the variables declared above.\n",
    "                               scoring='f1',            # We want to refit based on better f1 scores.\n",
    "                               n_jobs=-2,               # Uses all but one of machine's processors.\n",
    "                               verbose=50)              # verbose > 0 gives us a progress bar to check on.\n",
    "\n",
    "svm_grid_search.fit(X_train, y_train)\n",
    "%store svm_grid_search"
   ]
  },
  {
   "cell_type": "markdown",
   "metadata": {},
   "source": [
    "# <span style=\"color:orange\">Review GridSeach Results.</span>\n",
    "#### Determine if there are any tunings we want to make before we test our model against the `test set`. "
   ]
  },
  {
   "cell_type": "code",
   "execution_count": null,
   "metadata": {},
   "outputs": [],
   "source": [
    "%store -r svm_grid_search       # restores the results from our previous run of the above cell.\n",
    "svm_grid_search.best_estimator_ # outputs the best parameters to use based on our GridSearch"
   ]
  },
  {
   "cell_type": "markdown",
   "metadata": {},
   "source": [
    "# <span style=\"color:red\">Final Test Calculation</span>\n",
    "\n",
    "Now that we're comfortable with the hyper tunings of our parameters, we can finally run our model on our `test set` to truly challenge our model and determine an unbiased result."
   ]
  },
  {
   "cell_type": "code",
   "execution_count": null,
   "metadata": {},
   "outputs": [],
   "source": [
    "y_pred = svm_grid_search.predict(X_test)                # predicting y hat\n",
    "svm_model = svm_grid_search.best_params_['kernel']      # name which SVM model was the best parameter\n",
    "svm_acc = round(accuracy_score(y_test, y_pred)*100, 3)  # calculating accuracy\n",
    "svm_f1 = round(svm_grid_search.best_score_*100, 3)      # calculating F1 Score\n",
    "print(\"After hyper tuning the {} model, the best accuracy we could compute was {} with a f1 score of {}\".format(svm_model, svm_acc, svm_f1))\n",
    "\n",
    "svm = {'accuracy': svm_acc,\n",
    "       'f1': svm_f1 }\n",
    "%store svm"
   ]
  },
  {
   "cell_type": "markdown",
   "metadata": {},
   "source": [
    "# Below are examples of each individual SVM model"
   ]
  },
  {
   "cell_type": "markdown",
   "metadata": {},
   "source": [
    "## Linear SVM"
   ]
  },
  {
   "cell_type": "code",
   "execution_count": null,
   "metadata": {},
   "outputs": [],
   "source": [
    "svclassifier = SVC(kernel='linear')\n",
    "svclassifier.fit(X_train, y_train)"
   ]
  },
  {
   "cell_type": "code",
   "execution_count": null,
   "metadata": {},
   "outputs": [],
   "source": [
    "y_pred = svclassifier.predict(X_test)"
   ]
  },
  {
   "cell_type": "code",
   "execution_count": null,
   "metadata": {},
   "outputs": [],
   "source": [
    "print(confusion_matrix(y_test,y_pred))\n",
    "print(classification_report(y_test,y_pred))"
   ]
  },
  {
   "cell_type": "markdown",
   "metadata": {},
   "source": [
    "## Polynomial Kernel"
   ]
  },
  {
   "cell_type": "code",
   "execution_count": null,
   "metadata": {},
   "outputs": [],
   "source": [
    "scores = {}\n",
    "for num in range(1,8):\n",
    "    svclassifier = SVC(kernel='poly', degree=num, gamma='scale')\n",
    "    svclassifier.fit(X_train, y_train)\n",
    "    y_pred = svclassifier.predict(X_test)\n",
    "    scores[num] = accuracy_score(y_test, y_pred)\n",
    "\n",
    "high = 0\n",
    "for degree, accuracy in scores.items():\n",
    "    if accuracy > high:\n",
    "        high = accuracy\n",
    "        deg = degree\n",
    "print(\"A degree of {} results in the highest accuracy of {}\".format(deg, round(high, 3)))"
   ]
  },
  {
   "cell_type": "code",
   "execution_count": null,
   "metadata": {},
   "outputs": [],
   "source": [
    "svclassifier = SVC(kernel='poly', degree=1, gamma='scale')\n",
    "svclassifier.fit(X_train, y_train)\n",
    "y_pred = svclassifier.predict(X_test)\n",
    "print(confusion_matrix(y_test, y_pred))\n",
    "print(classification_report(y_test, y_pred))"
   ]
  },
  {
   "cell_type": "markdown",
   "metadata": {},
   "source": [
    "## Gaussian Kernel"
   ]
  },
  {
   "cell_type": "code",
   "execution_count": null,
   "metadata": {},
   "outputs": [],
   "source": [
    "svclassifier = SVC(kernel='rbf')\n",
    "svclassifier.fit(X_train, y_train)"
   ]
  },
  {
   "cell_type": "code",
   "execution_count": null,
   "metadata": {},
   "outputs": [],
   "source": [
    "y_pred = svclassifier.predict(X_test)"
   ]
  },
  {
   "cell_type": "code",
   "execution_count": null,
   "metadata": {},
   "outputs": [],
   "source": [
    "print(confusion_matrix(y_test, y_pred))\n",
    "print(classification_report(y_test, y_pred))"
   ]
  },
  {
   "cell_type": "markdown",
   "metadata": {},
   "source": [
    "## Sigmoid Kernel"
   ]
  },
  {
   "cell_type": "code",
   "execution_count": null,
   "metadata": {},
   "outputs": [],
   "source": [
    "svclassifier = SVC(kernel='sigmoid')\n",
    "svclassifier.fit(X_train, y_train)"
   ]
  },
  {
   "cell_type": "code",
   "execution_count": null,
   "metadata": {},
   "outputs": [],
   "source": [
    "y_pred = svclassifier.predict(X_test)"
   ]
  },
  {
   "cell_type": "code",
   "execution_count": null,
   "metadata": {},
   "outputs": [],
   "source": [
    "print(confusion_matrix(y_test, y_pred))\n",
    "print(classification_report(y_test, y_pred))"
   ]
  }
 ],
 "metadata": {
  "kernelspec": {
   "display_name": "Python 3",
   "language": "python",
   "name": "python3"
  },
  "language_info": {
   "codemirror_mode": {
    "name": "ipython",
    "version": 3
   },
   "file_extension": ".py",
   "mimetype": "text/x-python",
   "name": "python",
   "nbconvert_exporter": "python",
   "pygments_lexer": "ipython3",
   "version": "3.7.4"
  }
 },
 "nbformat": 4,
 "nbformat_minor": 4
}
