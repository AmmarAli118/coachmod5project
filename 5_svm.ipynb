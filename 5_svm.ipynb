{
 "cells": [
  {
   "cell_type": "code",
   "execution_count": 8,
   "metadata": {},
   "outputs": [],
   "source": [
    "import pandas as pd\n",
    "import numpy as np\n",
    "import matplotlib.pyplot as plt\n",
    "%matplotlib inline\n",
    "\n",
    "from sklearn.svm import SVC\n",
    "from sklearn.metrics import classification_report, confusion_matrix, accuracy_score, f1_score"
   ]
  },
  {
   "cell_type": "code",
   "execution_count": 3,
   "metadata": {},
   "outputs": [],
   "source": [
    "X_train = pd.read_pickle('./data/X_train_pickle.pkl')\n",
    "X_test = pd.read_pickle('./data/X_test_pickle.pkl')\n",
    "y_train = pd.read_pickle('./data/y_train_pickle.pkl')\n",
    "y_test = pd.read_pickle('./data/y_test_pickle.pkl')"
   ]
  },
  {
   "cell_type": "markdown",
   "metadata": {},
   "source": [
    "# Linear SVM"
   ]
  },
  {
   "cell_type": "code",
   "execution_count": 4,
   "metadata": {},
   "outputs": [
    {
     "data": {
      "text/plain": [
       "SVC(C=1.0, cache_size=200, class_weight=None, coef0=0.0,\n",
       "    decision_function_shape='ovr', degree=3, gamma='auto_deprecated',\n",
       "    kernel='linear', max_iter=-1, probability=False, random_state=None,\n",
       "    shrinking=True, tol=0.001, verbose=False)"
      ]
     },
     "execution_count": 4,
     "metadata": {},
     "output_type": "execute_result"
    }
   ],
   "source": [
    "svclassifier = SVC(kernel='linear')\n",
    "svclassifier.fit(X_train, y_train)"
   ]
  },
  {
   "cell_type": "code",
   "execution_count": 5,
   "metadata": {},
   "outputs": [],
   "source": [
    "y_pred = svclassifier.predict(X_test)"
   ]
  },
  {
   "cell_type": "code",
   "execution_count": 6,
   "metadata": {},
   "outputs": [
    {
     "name": "stdout",
     "output_type": "stream",
     "text": [
      "[[4201  326]\n",
      " [ 624  848]]\n",
      "              precision    recall  f1-score   support\n",
      "\n",
      "           0       0.87      0.93      0.90      4527\n",
      "           1       0.72      0.58      0.64      1472\n",
      "\n",
      "    accuracy                           0.84      5999\n",
      "   macro avg       0.80      0.75      0.77      5999\n",
      "weighted avg       0.83      0.84      0.84      5999\n",
      "\n"
     ]
    }
   ],
   "source": [
    "print(confusion_matrix(y_test,y_pred))\n",
    "print(classification_report(y_test,y_pred))"
   ]
  },
  {
   "cell_type": "markdown",
   "metadata": {},
   "source": [
    "# Polynomial Kernel"
   ]
  },
  {
   "cell_type": "code",
   "execution_count": 23,
   "metadata": {},
   "outputs": [
    {
     "name": "stdout",
     "output_type": "stream",
     "text": [
      "this is the result of 0 degrees\n",
      "[[4527    0]\n",
      " [1472    0]]\n",
      "              precision    recall  f1-score   support\n",
      "\n",
      "           0       0.75      1.00      0.86      4527\n",
      "           1       0.00      0.00      0.00      1472\n",
      "\n",
      "    accuracy                           0.75      5999\n",
      "   macro avg       0.38      0.50      0.43      5999\n",
      "weighted avg       0.57      0.75      0.65      5999\n",
      "\n"
     ]
    },
    {
     "name": "stderr",
     "output_type": "stream",
     "text": [
      "/anaconda3/lib/python3.7/site-packages/sklearn/metrics/classification.py:1437: UndefinedMetricWarning: Precision and F-score are ill-defined and being set to 0.0 in labels with no predicted samples.\n",
      "  'precision', 'predicted', average, warn_for)\n"
     ]
    },
    {
     "name": "stdout",
     "output_type": "stream",
     "text": [
      "this is the result of 1 degrees\n",
      "[[4208  319]\n",
      " [ 622  850]]\n",
      "              precision    recall  f1-score   support\n",
      "\n",
      "           0       0.87      0.93      0.90      4527\n",
      "           1       0.73      0.58      0.64      1472\n",
      "\n",
      "    accuracy                           0.84      5999\n",
      "   macro avg       0.80      0.75      0.77      5999\n",
      "weighted avg       0.84      0.84      0.84      5999\n",
      "\n",
      "this is the result of 2 degrees\n",
      "[[4256  271]\n",
      " [ 692  780]]\n",
      "              precision    recall  f1-score   support\n",
      "\n",
      "           0       0.86      0.94      0.90      4527\n",
      "           1       0.74      0.53      0.62      1472\n",
      "\n",
      "    accuracy                           0.84      5999\n",
      "   macro avg       0.80      0.74      0.76      5999\n",
      "weighted avg       0.83      0.84      0.83      5999\n",
      "\n",
      "this is the result of 3 degrees\n",
      "[[4239  288]\n",
      " [ 704  768]]\n",
      "              precision    recall  f1-score   support\n",
      "\n",
      "           0       0.86      0.94      0.90      4527\n",
      "           1       0.73      0.52      0.61      1472\n",
      "\n",
      "    accuracy                           0.83      5999\n",
      "   macro avg       0.79      0.73      0.75      5999\n",
      "weighted avg       0.83      0.83      0.82      5999\n",
      "\n",
      "this is the result of 4 degrees\n",
      "[[4337  190]\n",
      " [ 927  545]]\n",
      "              precision    recall  f1-score   support\n",
      "\n",
      "           0       0.82      0.96      0.89      4527\n",
      "           1       0.74      0.37      0.49      1472\n",
      "\n",
      "    accuracy                           0.81      5999\n",
      "   macro avg       0.78      0.66      0.69      5999\n",
      "weighted avg       0.80      0.81      0.79      5999\n",
      "\n",
      "this is the result of 5 degrees\n",
      "[[4387  140]\n",
      " [1086  386]]\n",
      "              precision    recall  f1-score   support\n",
      "\n",
      "           0       0.80      0.97      0.88      4527\n",
      "           1       0.73      0.26      0.39      1472\n",
      "\n",
      "    accuracy                           0.80      5999\n",
      "   macro avg       0.77      0.62      0.63      5999\n",
      "weighted avg       0.78      0.80      0.76      5999\n",
      "\n",
      "this is the result of 6 degrees\n",
      "[[4416  111]\n",
      " [1178  294]]\n",
      "              precision    recall  f1-score   support\n",
      "\n",
      "           0       0.79      0.98      0.87      4527\n",
      "           1       0.73      0.20      0.31      1472\n",
      "\n",
      "    accuracy                           0.79      5999\n",
      "   macro avg       0.76      0.59      0.59      5999\n",
      "weighted avg       0.77      0.79      0.74      5999\n",
      "\n",
      "this is the result of 7 degrees\n",
      "[[4430   97]\n",
      " [1222  250]]\n",
      "              precision    recall  f1-score   support\n",
      "\n",
      "           0       0.78      0.98      0.87      4527\n",
      "           1       0.72      0.17      0.27      1472\n",
      "\n",
      "    accuracy                           0.78      5999\n",
      "   macro avg       0.75      0.57      0.57      5999\n",
      "weighted avg       0.77      0.78      0.72      5999\n",
      "\n",
      "A degree of 1 results in the highest accuracy of 0.843\n"
     ]
    }
   ],
   "source": [
    "scores = {}\n",
    "for num in range(1,8):\n",
    "    svclassifier = SVC(kernel='poly', degree=num, gamma='scale')\n",
    "    svclassifier.fit(X_train, y_train)\n",
    "    y_pred = svclassifier.predict(X_test)\n",
    "    scores[num] = accuracy_score(y_test, y_pred)\n",
    "\n",
    "high = 0\n",
    "for degree, accuracy in scores.items():\n",
    "    if accuracy > high:\n",
    "        high = accuracy\n",
    "        deg = degree\n",
    "print(\"A degree of {} results in the highest accuracy of {}\".format(deg, round(high, 3)))"
   ]
  },
  {
   "cell_type": "code",
   "execution_count": null,
   "metadata": {},
   "outputs": [],
   "source": [
    "svclassifier = SVC(kernel='poly', degree=1, gamma='scale')\n",
    "svclassifier.fit(X_train, y_train)\n",
    "y_pred = svclassifier.predict(X_test)\n",
    "print(confusion_matrix(y_test, y_pred))\n",
    "print(classification_report(y_test, y_pred))"
   ]
  },
  {
   "cell_type": "markdown",
   "metadata": {},
   "source": [
    "# Gaussian Kernel"
   ]
  },
  {
   "cell_type": "code",
   "execution_count": 24,
   "metadata": {},
   "outputs": [
    {
     "name": "stderr",
     "output_type": "stream",
     "text": [
      "/anaconda3/lib/python3.7/site-packages/sklearn/svm/base.py:193: FutureWarning: The default value of gamma will change from 'auto' to 'scale' in version 0.22 to account better for unscaled features. Set gamma explicitly to 'auto' or 'scale' to avoid this warning.\n",
      "  \"avoid this warning.\", FutureWarning)\n"
     ]
    },
    {
     "data": {
      "text/plain": [
       "SVC(C=1.0, cache_size=200, class_weight=None, coef0=0.0,\n",
       "    decision_function_shape='ovr', degree=3, gamma='auto_deprecated',\n",
       "    kernel='rbf', max_iter=-1, probability=False, random_state=None,\n",
       "    shrinking=True, tol=0.001, verbose=False)"
      ]
     },
     "execution_count": 24,
     "metadata": {},
     "output_type": "execute_result"
    }
   ],
   "source": [
    "svclassifier = SVC(kernel='rbf')\n",
    "svclassifier.fit(X_train, y_train)"
   ]
  },
  {
   "cell_type": "code",
   "execution_count": 25,
   "metadata": {},
   "outputs": [],
   "source": [
    "y_pred = svclassifier.predict(X_test)"
   ]
  },
  {
   "cell_type": "code",
   "execution_count": 26,
   "metadata": {},
   "outputs": [
    {
     "name": "stdout",
     "output_type": "stream",
     "text": [
      "[[4209  318]\n",
      " [ 637  835]]\n",
      "              precision    recall  f1-score   support\n",
      "\n",
      "           0       0.87      0.93      0.90      4527\n",
      "           1       0.72      0.57      0.64      1472\n",
      "\n",
      "    accuracy                           0.84      5999\n",
      "   macro avg       0.80      0.75      0.77      5999\n",
      "weighted avg       0.83      0.84      0.83      5999\n",
      "\n"
     ]
    }
   ],
   "source": [
    "print(confusion_matrix(y_test, y_pred))\n",
    "print(classification_report(y_test, y_pred))"
   ]
  },
  {
   "cell_type": "markdown",
   "metadata": {},
   "source": [
    "# Sigmoid Kernel"
   ]
  },
  {
   "cell_type": "code",
   "execution_count": 27,
   "metadata": {},
   "outputs": [
    {
     "name": "stderr",
     "output_type": "stream",
     "text": [
      "/anaconda3/lib/python3.7/site-packages/sklearn/svm/base.py:193: FutureWarning: The default value of gamma will change from 'auto' to 'scale' in version 0.22 to account better for unscaled features. Set gamma explicitly to 'auto' or 'scale' to avoid this warning.\n",
      "  \"avoid this warning.\", FutureWarning)\n"
     ]
    },
    {
     "data": {
      "text/plain": [
       "SVC(C=1.0, cache_size=200, class_weight=None, coef0=0.0,\n",
       "    decision_function_shape='ovr', degree=3, gamma='auto_deprecated',\n",
       "    kernel='sigmoid', max_iter=-1, probability=False, random_state=None,\n",
       "    shrinking=True, tol=0.001, verbose=False)"
      ]
     },
     "execution_count": 27,
     "metadata": {},
     "output_type": "execute_result"
    }
   ],
   "source": [
    "svclassifier = SVC(kernel='sigmoid')\n",
    "svclassifier.fit(X_train, y_train)"
   ]
  },
  {
   "cell_type": "code",
   "execution_count": 28,
   "metadata": {},
   "outputs": [],
   "source": [
    "y_pred = svclassifier.predict(X_test)"
   ]
  },
  {
   "cell_type": "code",
   "execution_count": 29,
   "metadata": {},
   "outputs": [
    {
     "name": "stdout",
     "output_type": "stream",
     "text": [
      "[[4092  435]\n",
      " [ 623  849]]\n",
      "              precision    recall  f1-score   support\n",
      "\n",
      "           0       0.87      0.90      0.89      4527\n",
      "           1       0.66      0.58      0.62      1472\n",
      "\n",
      "    accuracy                           0.82      5999\n",
      "   macro avg       0.76      0.74      0.75      5999\n",
      "weighted avg       0.82      0.82      0.82      5999\n",
      "\n"
     ]
    }
   ],
   "source": [
    "print(confusion_matrix(y_test, y_pred))\n",
    "print(classification_report(y_test, y_pred))"
   ]
  },
  {
   "cell_type": "code",
   "execution_count": 30,
   "metadata": {},
   "outputs": [
    {
     "name": "stdout",
     "output_type": "stream",
     "text": [
      "[[4201  326]\n",
      " [ 624  848]]\n",
      "              precision    recall  f1-score   support\n",
      "\n",
      "           0       0.87      0.93      0.90      4527\n",
      "           1       0.72      0.58      0.64      1472\n",
      "\n",
      "    accuracy                           0.84      5999\n",
      "   macro avg       0.80      0.75      0.77      5999\n",
      "weighted avg       0.83      0.84      0.84      5999\n",
      "\n"
     ]
    },
    {
     "name": "stderr",
     "output_type": "stream",
     "text": [
      "/anaconda3/lib/python3.7/site-packages/sklearn/svm/base.py:193: FutureWarning: The default value of gamma will change from 'auto' to 'scale' in version 0.22 to account better for unscaled features. Set gamma explicitly to 'auto' or 'scale' to avoid this warning.\n",
      "  \"avoid this warning.\", FutureWarning)\n"
     ]
    },
    {
     "name": "stdout",
     "output_type": "stream",
     "text": [
      "[[4239  288]\n",
      " [ 705  767]]\n",
      "              precision    recall  f1-score   support\n",
      "\n",
      "           0       0.86      0.94      0.90      4527\n",
      "           1       0.73      0.52      0.61      1472\n",
      "\n",
      "    accuracy                           0.83      5999\n",
      "   macro avg       0.79      0.73      0.75      5999\n",
      "weighted avg       0.83      0.83      0.82      5999\n",
      "\n"
     ]
    },
    {
     "name": "stderr",
     "output_type": "stream",
     "text": [
      "/anaconda3/lib/python3.7/site-packages/sklearn/svm/base.py:193: FutureWarning: The default value of gamma will change from 'auto' to 'scale' in version 0.22 to account better for unscaled features. Set gamma explicitly to 'auto' or 'scale' to avoid this warning.\n",
      "  \"avoid this warning.\", FutureWarning)\n"
     ]
    },
    {
     "name": "stdout",
     "output_type": "stream",
     "text": [
      "[[4209  318]\n",
      " [ 637  835]]\n",
      "              precision    recall  f1-score   support\n",
      "\n",
      "           0       0.87      0.93      0.90      4527\n",
      "           1       0.72      0.57      0.64      1472\n",
      "\n",
      "    accuracy                           0.84      5999\n",
      "   macro avg       0.80      0.75      0.77      5999\n",
      "weighted avg       0.83      0.84      0.83      5999\n",
      "\n"
     ]
    },
    {
     "name": "stderr",
     "output_type": "stream",
     "text": [
      "/anaconda3/lib/python3.7/site-packages/sklearn/svm/base.py:193: FutureWarning: The default value of gamma will change from 'auto' to 'scale' in version 0.22 to account better for unscaled features. Set gamma explicitly to 'auto' or 'scale' to avoid this warning.\n",
      "  \"avoid this warning.\", FutureWarning)\n"
     ]
    },
    {
     "name": "stdout",
     "output_type": "stream",
     "text": [
      "[[4092  435]\n",
      " [ 623  849]]\n",
      "              precision    recall  f1-score   support\n",
      "\n",
      "           0       0.87      0.90      0.89      4527\n",
      "           1       0.66      0.58      0.62      1472\n",
      "\n",
      "    accuracy                           0.82      5999\n",
      "   macro avg       0.76      0.74      0.75      5999\n",
      "weighted avg       0.82      0.82      0.82      5999\n",
      "\n"
     ]
    }
   ],
   "source": [
    "kernel_options = ['linear', 'poly', 'rbf', 'sigmoid']\n",
    "for kernel in kernel_options:\n",
    "    svclassifier = SVC(kernel=kernel)\n",
    "    svclassifier.fit(X_train, y_train)\n",
    "    y_pred = svclassifier.predict(X_test)\n",
    "    print(\"This is the report for the {} kernel\".format(kernel))\n",
    "    print(confusion_matrix(y_test, y_pred))\n",
    "    print(classification_report(y_test, y_pred))"
   ]
  },
  {
   "cell_type": "markdown",
   "metadata": {},
   "source": [
    "# Fill in the variables below with actual results"
   ]
  },
  {
   "cell_type": "code",
   "execution_count": 1,
   "metadata": {},
   "outputs": [
    {
     "name": "stdout",
     "output_type": "stream",
     "text": [
      "Stored 'svm' (dict)\n"
     ]
    }
   ],
   "source": [
    "SVM_f1 = 0\n",
    "SVM_accuracy = 0\n",
    "svm = {\n",
    "    'accuracy': SVM_accuracy,\n",
    "    'f1': SVM_f1\n",
    "}\n",
    "%store svm"
   ]
  },
  {
   "cell_type": "code",
   "execution_count": null,
   "metadata": {},
   "outputs": [],
   "source": []
  }
 ],
 "metadata": {
  "kernelspec": {
   "display_name": "Python 3",
   "language": "python",
   "name": "python3"
  },
  "language_info": {
   "codemirror_mode": {
    "name": "ipython",
    "version": 3
   },
   "file_extension": ".py",
   "mimetype": "text/x-python",
   "name": "python",
   "nbconvert_exporter": "python",
   "pygments_lexer": "ipython3",
   "version": "3.7.3"
  }
 },
 "nbformat": 4,
 "nbformat_minor": 4
}
