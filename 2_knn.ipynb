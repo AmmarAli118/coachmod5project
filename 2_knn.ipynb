{
 "cells": [
  {
   "cell_type": "code",
   "execution_count": 1,
   "metadata": {},
   "outputs": [],
   "source": [
    "import numpy as np\n",
    "import pandas as pd\n",
    "import matplotlib.pyplot as plt\n",
    "\n",
    "# from sklearn.ensemble import RandomForestRegressor\n",
    "# from sklearn.svm import SVC\n",
    "from sklearn.neighbors import KNeighborsClassifier\n",
    "# from sklearn.linear_model import LogisticRegression\n",
    "\n",
    "from sklearn.model_selection import cross_val_score\n",
    "\n",
    "from sklearn import metrics\n",
    "from sklearn.metrics import classification_report, confusion_matrix\n",
    "\n",
    "import itertools"
   ]
  },
  {
   "cell_type": "markdown",
   "metadata": {},
   "source": [
    "# Read in Pickle"
   ]
  },
  {
   "cell_type": "code",
   "execution_count": 2,
   "metadata": {},
   "outputs": [],
   "source": [
    "X_train = pd.read_pickle('./data/X_train_pickle.pkl')\n",
    "\n",
    "X_test = pd.read_pickle('./data/X_test_pickle.pkl')\n",
    "\n",
    "y_train = pd.read_pickle('./data/y_train_pickle.pkl')\n",
    "\n",
    "y_test = pd.read_pickle('./data/y_test_pickle.pkl')"
   ]
  },
  {
   "cell_type": "markdown",
   "metadata": {},
   "source": [
    "## KNN"
   ]
  },
  {
   "cell_type": "markdown",
   "metadata": {},
   "source": [
    "#### Find optimal value for K"
   ]
  },
  {
   "cell_type": "code",
   "execution_count": 10,
   "metadata": {},
   "outputs": [
    {
     "name": "stdout",
     "output_type": "stream",
     "text": [
      "When k=1, f1 score=0.7893\n",
      "When k=2, f1 score=0.7871\n",
      "When k=3, f1 score=0.8039\n",
      "When k=4, f1 score=0.8\n",
      "When k=5, f1 score=0.8105\n",
      "When k=6, f1 score=0.8086\n",
      "When k=7, f1 score=0.8143\n",
      "When k=8, f1 score=0.8083\n",
      "When k=9, f1 score=0.818\n",
      "When k=10, f1 score=0.8146\n",
      "When k=11, f1 score=0.8192\n",
      "When k=12, f1 score=0.8151\n"
     ]
    }
   ],
   "source": [
    "k_range = list(range(1, 13))\n",
    "k_scores = []\n",
    "for k in k_range:\n",
    "    knn = KNeighborsClassifier(n_neighbors=k)\n",
    "    knn.fit(X_train, y_train)\n",
    "    y_predict = knn.predict(X_test)\n",
    "    score = metrics.f1_score(y_test, y_predict, average='weighted')\n",
    "    k_scores.append(score)\n",
<<<<<<< HEAD
    "print(k_scores)"
=======
    "    print(\"When k={}, f1 score={}\".format(k,round(score, 4)))"
>>>>>>> bc524f58c31ffe33fecfd89f12d31c766c7d2174
   ]
  },
  {
   "cell_type": "code",
<<<<<<< HEAD
   "execution_count": 26,
=======
   "execution_count": 11,
   "metadata": {},
   "outputs": [
    {
     "name": "stdout",
     "output_type": "stream",
     "text": [
      "This is the highest score is 0.819160830626904, when k = 11\n"
     ]
    }
   ],
   "source": [
    "high_score = 0\n",
    "for index, element in enumerate(k_scores):\n",
    "    if element > high_score:\n",
    "        high_score = element\n",
    "        ind = index\n",
    "        \n",
    "print(\"This is the highest score is {}, when k = {}\".format(high_score, ind + 1))"
   ]
  },
  {
   "cell_type": "code",
   "execution_count": 12,
>>>>>>> bc524f58c31ffe33fecfd89f12d31c766c7d2174
   "metadata": {},
   "outputs": [
    {
     "data": {
      "text/plain": [
<<<<<<< HEAD
       "([<matplotlib.axis.XTick at 0x1a1fd5af60>,\n",
       "  <matplotlib.axis.XTick at 0x1a1fdc5e10>,\n",
       "  <matplotlib.axis.XTick at 0x1a1fdc5b38>,\n",
       "  <matplotlib.axis.XTick at 0x1a1e7293c8>,\n",
       "  <matplotlib.axis.XTick at 0x1a1e729860>,\n",
       "  <matplotlib.axis.XTick at 0x1a1e729d30>,\n",
       "  <matplotlib.axis.XTick at 0x1a21908240>,\n",
       "  <matplotlib.axis.XTick at 0x1a21908710>,\n",
       "  <matplotlib.axis.XTick at 0x1a21908be0>,\n",
       "  <matplotlib.axis.XTick at 0x1a21913160>,\n",
       "  <matplotlib.axis.XTick at 0x1a219135c0>],\n",
       " <a list of 11 Text xticklabel objects>)"
      ]
     },
     "execution_count": 26,
=======
       "[<matplotlib.lines.Line2D at 0x1a24c08b00>]"
      ]
     },
     "execution_count": 12,
>>>>>>> bc524f58c31ffe33fecfd89f12d31c766c7d2174
     "metadata": {},
     "output_type": "execute_result"
    },
    {
     "data": {
<<<<<<< HEAD
      "image/png": "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\n",
=======
      "image/png": "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\n",
>>>>>>> bc524f58c31ffe33fecfd89f12d31c766c7d2174
      "text/plain": [
       "<Figure size 432x288 with 1 Axes>"
      ]
     },
     "metadata": {
      "needs_background": "light"
     },
     "output_type": "display_data"
    }
   ],
   "source": [
<<<<<<< HEAD
    "plt.plot(k_scores)\n",
    "plt.xticks(ticks=np.arange(1, 12, step=1))"
=======
    "plt.plot(k_scores)"
>>>>>>> bc524f58c31ffe33fecfd89f12d31c766c7d2174
   ]
  },
  {
   "cell_type": "markdown",
   "metadata": {},
   "source": [
    "#### The optimal k value is 11; As made evident by the plot."
   ]
  },
  {
   "cell_type": "code",
   "execution_count": 13,
   "metadata": {},
   "outputs": [],
   "source": [
    "knn = KNeighborsClassifier(n_neighbors=11)\n",
    "\n",
    "knn.fit(X_train, y_train)\n",
    "\n",
    "y_pred_class = knn.predict(X_test)"
   ]
  },
  {
   "cell_type": "markdown",
   "metadata": {},
   "source": [
    "#### How to plot Confusion Matrix\n",
    "https://scikit-learn.org/stable/auto_examples/model_selection/plot_confusion_matrix.html"
   ]
  },
  {
   "cell_type": "code",
   "execution_count": 14,
   "metadata": {},
   "outputs": [],
   "source": [
    "def plot_confusion_matrix(cm, classes,\n",
    "                          normalize=False,\n",
    "                          title='Confusion matrix',\n",
    "                          cmap=plt.cm.Blues):\n",
    "    \"\"\"\n",
    "    This function prints and plots the confusion matrix.\n",
    "    Normalization can be applied by setting `normalize=True`.\n",
    "    \"\"\"\n",
    "    if normalize:\n",
    "        cm = cm.astype('float') / cm.sum(axis=1)[:, np.newaxis]\n",
    "        print(\"Normalized confusion matrix\")\n",
    "    else:\n",
    "        print('Confusion Matrix, without normalization')\n",
    "\n",
    "    print(cm)\n",
    "\n",
    "    plt.imshow(cm, interpolation='nearest', cmap=cmap)\n",
    "    plt.title(title)\n",
    "    plt.colorbar()\n",
    "    tick_marks = np.arange(len(classes))\n",
    "    plt.xticks(tick_marks, classes, rotation=45)\n",
    "    plt.yticks(tick_marks, classes)\n",
    "\n",
    "    fmt = '.2f' if normalize else 'd'\n",
    "    thresh = cm.max() / 2.\n",
    "    for i, j in itertools.product(range(cm.shape[0]), range(cm.shape[1])):\n",
    "        plt.text(j, i, format(cm[i, j], fmt),\n",
    "                 horizontalalignment=\"center\",\n",
    "                 color=\"white\" if cm[i, j] > thresh else \"black\")\n",
    "    plt.tight_layout()\n",
    "    plt.ylabel('True label')\n",
    "    plt.xlabel('Predicted label')"
   ]
  },
  {
   "cell_type": "code",
   "execution_count": 15,
   "metadata": {},
   "outputs": [
    {
     "name": "stdout",
     "output_type": "stream",
     "text": [
      "Confusion Matrix, without normalization\n",
      "[[4101  426]\n",
      " [ 631  841]]\n"
     ]
    },
    {
     "data": {
      "image/png": "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\n",
      "text/plain": [
       "<Figure size 432x288 with 2 Axes>"
      ]
     },
     "metadata": {
      "needs_background": "light"
     },
     "output_type": "display_data"
    }
   ],
   "source": [
    "cm = confusion_matrix(y_test,y_pred_class)\n",
    "classes = ['<=50K', '>50K']\n",
    "plot_confusion_matrix(cm, classes=classes,normalize=False,title='Confusion matrix',cmap=plt.cm.Greens)"
   ]
  },
  {
   "cell_type": "code",
   "execution_count": 18,
   "metadata": {},
   "outputs": [
    {
     "data": {
      "text/plain": [
       "57.13"
      ]
     },
     "execution_count": 18,
     "metadata": {},
     "output_type": "execute_result"
    }
   ],
   "source": [
    "round(cm[1][1]/(cm[1][1] + cm[1][0]) * 100, 2)"
   ]
  },
  {
   "cell_type": "markdown",
   "metadata": {},
   "source": [
    "The number of Positives that were correctly identified are 57% of the actual Positives that exist in the dataset. Therefore, KNN is not the best classification algorithm to use in this case. This is also known as Recall."
   ]
  },
  {
   "cell_type": "markdown",
   "metadata": {},
   "source": [
    "We want to use Recall as a way to compare the effectiveness of different algorithms because we would rather falsely predict a lower salary of an individual(False Negatives), so that they could adequately prepare themselves financially. We would not want to falsely predict higher salaries for individuals, so that they will not have to deal with financial complications(False Positives)."
   ]
  },
  {
   "cell_type": "code",
   "execution_count": null,
   "metadata": {},
   "outputs": [],
   "source": []
  }
 ],
 "metadata": {
  "kernelspec": {
   "display_name": "Python 3",
   "language": "python",
   "name": "python3"
  },
  "language_info": {
   "codemirror_mode": {
    "name": "ipython",
    "version": 3
   },
   "file_extension": ".py",
   "mimetype": "text/x-python",
   "name": "python",
   "nbconvert_exporter": "python",
   "pygments_lexer": "ipython3",
   "version": "3.7.3"
  }
 },
 "nbformat": 4,
 "nbformat_minor": 4
}
