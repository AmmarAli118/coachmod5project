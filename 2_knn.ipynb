{
 "cells": [
  {
   "cell_type": "code",
   "execution_count": 1,
   "metadata": {},
   "outputs": [],
   "source": [
    "import numpy as np\n",
    "import pandas as pd\n",
    "import matplotlib.pyplot as plt\n",
    "import itertools\n",
    "\n",
    "from sklearn.neighbors import KNeighborsClassifier\n",
    "from sklearn.model_selection import GridSearchCV\n",
    "from sklearn.metrics import classification_report, confusion_matrix, accuracy_score, f1_score\n",
    "\n",
    "X_train = pd.read_pickle('./data/X_train_pickle.pkl')\n",
    "X_test = pd.read_pickle('./data/X_test_pickle.pkl')\n",
    "y_train = pd.read_pickle('./data/y_train_pickle.pkl')\n",
    "y_test = pd.read_pickle('./data/y_test_pickle.pkl')"
   ]
  },
  {
   "cell_type": "code",
   "execution_count": 2,
   "metadata": {},
   "outputs": [],
   "source": [
    "# adjust the variables to your liking.\n",
    "neighbors = list(range(1,13))\n",
    "cv=5"
   ]
  },
  {
   "cell_type": "code",
   "execution_count": 3,
   "metadata": {},
   "outputs": [
    {
     "name": "stdout",
     "output_type": "stream",
     "text": [
      "Fitting 5 folds for each of 12 candidates, totalling 60 fits\n",
      "[Parallel(n_jobs=-2)]: Using backend LokyBackend with 7 concurrent workers.\n",
      "[Parallel(n_jobs=-2)]: Done   1 tasks      | elapsed:   18.6s\n",
      "[Parallel(n_jobs=-2)]: Done   2 tasks      | elapsed:   18.6s\n",
      "[Parallel(n_jobs=-2)]: Done   3 tasks      | elapsed:   18.7s\n",
      "[Parallel(n_jobs=-2)]: Done   4 tasks      | elapsed:   18.8s\n",
      "[Parallel(n_jobs=-2)]: Done   5 tasks      | elapsed:   18.9s\n",
      "[Parallel(n_jobs=-2)]: Done   6 tasks      | elapsed:   19.3s\n",
      "[Parallel(n_jobs=-2)]: Done   7 tasks      | elapsed:   19.3s\n",
      "[Parallel(n_jobs=-2)]: Done   8 tasks      | elapsed:   35.6s\n",
      "[Parallel(n_jobs=-2)]: Done   9 tasks      | elapsed:   35.8s\n",
      "[Parallel(n_jobs=-2)]: Done  10 tasks      | elapsed:   36.1s\n",
      "[Parallel(n_jobs=-2)]: Done  11 tasks      | elapsed:   36.2s\n",
      "[Parallel(n_jobs=-2)]: Done  12 tasks      | elapsed:   36.4s\n",
      "[Parallel(n_jobs=-2)]: Done  13 tasks      | elapsed:   36.5s\n",
      "[Parallel(n_jobs=-2)]: Done  14 tasks      | elapsed:   36.9s\n",
      "[Parallel(n_jobs=-2)]: Done  15 tasks      | elapsed:   52.1s\n",
      "[Parallel(n_jobs=-2)]: Done  16 tasks      | elapsed:   52.8s\n",
      "[Parallel(n_jobs=-2)]: Done  17 tasks      | elapsed:   53.0s\n",
      "[Parallel(n_jobs=-2)]: Done  18 tasks      | elapsed:   53.5s\n",
      "[Parallel(n_jobs=-2)]: Done  19 tasks      | elapsed:   53.6s\n",
      "[Parallel(n_jobs=-2)]: Done  20 tasks      | elapsed:   53.8s\n",
      "[Parallel(n_jobs=-2)]: Done  21 tasks      | elapsed:   54.3s\n",
      "[Parallel(n_jobs=-2)]: Done  22 tasks      | elapsed:  1.2min\n",
      "[Parallel(n_jobs=-2)]: Done  23 tasks      | elapsed:  1.2min\n",
      "[Parallel(n_jobs=-2)]: Done  24 tasks      | elapsed:  1.2min\n",
      "[Parallel(n_jobs=-2)]: Done  25 tasks      | elapsed:  1.2min\n",
      "[Parallel(n_jobs=-2)]: Done  26 tasks      | elapsed:  1.2min\n",
      "[Parallel(n_jobs=-2)]: Done  27 tasks      | elapsed:  1.2min\n",
      "[Parallel(n_jobs=-2)]: Done  28 tasks      | elapsed:  1.2min\n",
      "[Parallel(n_jobs=-2)]: Done  29 tasks      | elapsed:  1.4min\n",
      "[Parallel(n_jobs=-2)]: Done  30 tasks      | elapsed:  1.5min\n",
      "[Parallel(n_jobs=-2)]: Done  31 tasks      | elapsed:  1.5min\n",
      "[Parallel(n_jobs=-2)]: Done  32 tasks      | elapsed:  1.5min\n",
      "[Parallel(n_jobs=-2)]: Done  33 tasks      | elapsed:  1.5min\n",
      "[Parallel(n_jobs=-2)]: Done  34 tasks      | elapsed:  1.5min\n",
      "[Parallel(n_jobs=-2)]: Done  35 tasks      | elapsed:  1.5min\n",
      "[Parallel(n_jobs=-2)]: Done  36 tasks      | elapsed:  1.7min\n",
      "[Parallel(n_jobs=-2)]: Done  37 tasks      | elapsed:  1.7min\n",
      "[Parallel(n_jobs=-2)]: Done  38 tasks      | elapsed:  1.8min\n",
      "[Parallel(n_jobs=-2)]: Done  39 tasks      | elapsed:  1.8min\n",
      "[Parallel(n_jobs=-2)]: Done  40 tasks      | elapsed:  1.8min\n",
      "[Parallel(n_jobs=-2)]: Done  41 tasks      | elapsed:  1.8min\n",
      "[Parallel(n_jobs=-2)]: Done  42 tasks      | elapsed:  1.8min\n",
      "[Parallel(n_jobs=-2)]: Done  43 tasks      | elapsed:  2.0min\n",
      "[Parallel(n_jobs=-2)]: Done  44 tasks      | elapsed:  2.0min\n",
      "[Parallel(n_jobs=-2)]: Done  45 tasks      | elapsed:  2.0min\n",
      "[Parallel(n_jobs=-2)]: Done  46 tasks      | elapsed:  2.1min\n",
      "[Parallel(n_jobs=-2)]: Done  47 tasks      | elapsed:  2.1min\n",
      "[Parallel(n_jobs=-2)]: Done  49 out of  60 | elapsed:  2.1min remaining:   28.0s\n",
      "[Parallel(n_jobs=-2)]: Done  51 out of  60 | elapsed:  2.3min remaining:   24.6s\n",
      "[Parallel(n_jobs=-2)]: Done  53 out of  60 | elapsed:  2.4min remaining:   18.6s\n",
      "[Parallel(n_jobs=-2)]: Done  55 out of  60 | elapsed:  2.4min remaining:   12.9s\n",
      "[Parallel(n_jobs=-2)]: Done  57 out of  60 | elapsed:  2.5min remaining:    8.0s\n",
      "[Parallel(n_jobs=-2)]: Done  60 out of  60 | elapsed:  2.6min finished\n",
      "Stored 'knn_grid_search' (GridSearchCV)\n"
     ]
    },
    {
     "data": {
      "text/plain": [
       "KNeighborsClassifier(algorithm='auto', leaf_size=30, metric='minkowski',\n",
       "                     metric_params=None, n_jobs=None, n_neighbors=11, p=2,\n",
       "                     weights='uniform')"
      ]
     },
     "execution_count": 3,
     "metadata": {},
     "output_type": "execute_result"
    }
   ],
   "source": [
    "# Run this cell once to save results to your disk.\n",
    "# Will take about 3 minutes to run. \n",
    "knn = KNeighborsClassifier()\n",
    "param_grid = [{'n_neighbors':neighbors}]\n",
    "knn_grid_search = GridSearchCV(knn, param_grid, cv=cv,    # Just passing in the variables declared above.\n",
    "                               scoring='f1',\n",
    "                               n_jobs=-2,                               # Uses all but one of machine's processors.\n",
    "                               verbose=50)                              # verbose > 0 gives us a progress bar to check on.\n",
    "knn_grid_search.fit(X_train, y_train)\n",
    "%store knn_grid_search\n",
    "knn_grid_search.best_estimator_"
   ]
  },
  {
   "cell_type": "markdown",
   "metadata": {},
   "source": [
    "# End of GridSearch -> Calculate Results"
   ]
  },
  {
   "cell_type": "code",
   "execution_count": 4,
   "metadata": {},
   "outputs": [
    {
     "name": "stdout",
     "output_type": "stream",
     "text": [
      "Knn accuracy:82.397 and KNN F1:61.958\n",
      "Stored 'knn' (dict)\n"
     ]
    }
   ],
   "source": [
    "%store -r knn_grid_search\n",
    "y_pred = knn_grid_search.predict(X_test)\n",
    "knn_acc = round(accuracy_score(y_test, y_pred)*100, 3)\n",
    "knn_f1 = round(knn_grid_search.best_score_*100, 3)\n",
    "print(\"Knn accuracy:{} and KNN F1:{}\".format(knn_acc, knn_f1))\n",
    "\n",
    "knn = {\n",
    "    'accuracy': knn_acc,\n",
    "    'f1': knn_f1\n",
    "}\n",
    "%store knn"
   ]
  },
  {
   "cell_type": "markdown",
   "metadata": {},
   "source": [
    "## Plot Confusion Matrix\n",
    "\n",
    ">https://scikit-learn.org/stable/auto_examples/model_selection/plot_confusion_matrix.html"
   ]
  },
  {
   "cell_type": "code",
   "execution_count": 5,
   "metadata": {},
   "outputs": [],
   "source": [
    "# from sklearn.metrics, we use confusion_matrix and pass in the y_test and y hat; saving the result as cm.\n",
    "# this will calculate how many true positives, true negatives, false positives, and false negatives there are.\n",
    "cm = confusion_matrix(y_test,y_pred)\n",
    "\n",
    "# because we're aiming to predict a value over/under 50K, we set the classes appropriately. \n",
    "classes = ['<=50K', '>50K']"
   ]
  },
  {
   "cell_type": "code",
   "execution_count": 6,
   "metadata": {},
   "outputs": [],
   "source": [
    "def plot_confusion_matrix(cm, classes,\n",
    "                          normalize=False,\n",
    "                          title='Confusion matrix',\n",
    "                          cmap=plt.cm.Greens):\n",
    "    \"\"\"\n",
    "    This function prints and plots the confusion matrix.\n",
    "    Normalization can be applied by setting `normalize=True`.\n",
    "    \"\"\"\n",
    "    if normalize:\n",
    "#         if normalized, convert the confusion matrix to a float, then divide the top quadrants by the summation of the top row\n",
    "#           and bottom quadrants by the summation of the bottom row to get a percentage for each quadrant.\n",
    "        cm = cm.astype('float') / cm.sum(axis=1)[:, np.newaxis] \n",
    "        print(\"Normalized confusion matrix\")\n",
    "    else:\n",
    "        print('Confusion Matrix, without normalization')\n",
    "\n",
    "    print(cm)\n",
    "\n",
    "#     Set the plt with the confusion matrix, the colors defined (in this case default)\n",
    "    plt.imshow(cm, interpolation='nearest', cmap=cmap) # <- What is interpolation?\n",
    "    plt.title(title)\n",
    "    plt.colorbar()\n",
    "    tick_marks = np.arange(len(classes)) \n",
    "    plt.xticks(tick_marks, classes, rotation=45)\n",
    "    plt.yticks(tick_marks, classes)\n",
    "\n",
    "# what is all of this?\n",
    "    fmt = '.2f' if normalize else 'd'\n",
    "    thresh = cm.max() / 2.\n",
    "    for i, j in itertools.product(range(cm.shape[0]), range(cm.shape[1])):\n",
    "        plt.text(j, i, format(cm[i, j], fmt),\n",
    "                 horizontalalignment=\"center\",\n",
    "                 color=\"white\" if cm[i, j] > thresh else \"black\")\n",
    "    plt.tight_layout()\n",
    "    plt.ylabel('True label')\n",
    "    plt.xlabel('Predicted label')"
   ]
  },
  {
   "cell_type": "code",
   "execution_count": 7,
   "metadata": {},
   "outputs": [
    {
     "name": "stdout",
     "output_type": "stream",
     "text": [
      "Confusion Matrix, without normalization\n",
      "[[4102  425]\n",
      " [ 631  841]]\n"
     ]
    },
    {
     "data": {
      "image/png": "[encoded data removed]",
      "text/plain": [
       "<Figure size 432x288 with 2 Axes>"
      ]
     },
     "metadata": {
      "needs_background": "light"
     },
     "output_type": "display_data"
    }
   ],
   "source": [
    "plot_confusion_matrix(cm, classes=classes)"
   ]
  },
  {
   "cell_type": "code",
   "execution_count": 8,
   "metadata": {},
   "outputs": [
    {
     "name": "stdout",
     "output_type": "stream",
     "text": [
      "Normalized confusion matrix\n",
      "[[0.90611884 0.09388116]\n",
      " [0.42866848 0.57133152]]\n"
     ]
    },
    {
     "data": {
      "image/png": "[encoded data removed]",
      "text/plain": [
       "<Figure size 432x288 with 2 Axes>"
      ]
     },
     "metadata": {
      "needs_background": "light"
     },
     "output_type": "display_data"
    }
   ],
   "source": [
    "plot_confusion_matrix(cm, classes=classes, normalize=True)"
   ]
  },
  {
   "cell_type": "markdown",
   "metadata": {},
   "source": [
    "The number of Positives that were correctly identified are 57% of the actual Positives that exist in the dataset. This is also known as Recall."
   ]
  },
  {
   "cell_type": "markdown",
   "metadata": {},
   "source": [
    "We want to use Recall as a way to compare the effectiveness of different algorithms because we would rather falsely predict a lower salary of an individual(False Negatives), so that they could adequately prepare themselves financially. We would not want to falsely predict higher salaries for individuals, so that they will not have to deal with financial complications(False Positives)."
   ]
  }
 ],
 "metadata": {
  "kernelspec": {
   "display_name": "Python 3",
   "language": "python",
   "name": "python3"
  },
  "language_info": {
   "codemirror_mode": {
    "name": "ipython",
    "version": 3
   },
   "file_extension": ".py",
   "mimetype": "text/x-python",
   "name": "python",
   "nbconvert_exporter": "python",
   "pygments_lexer": "ipython3",
   "version": "3.7.4"
  }
 },
 "nbformat": 4,
 "nbformat_minor": 4
}
