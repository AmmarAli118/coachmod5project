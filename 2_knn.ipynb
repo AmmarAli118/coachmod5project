{
 "cells": [
  {
   "cell_type": "code",
   "execution_count": 1,
   "metadata": {},
   "outputs": [],
   "source": [
    "import numpy as np\n",
    "import pandas as pd\n",
    "import matplotlib.pyplot as plt\n",
    "import itertools\n",
    "\n",
    "from sklearn.neighbors import KNeighborsClassifier\n",
    "from sklearn.model_selection import GridSearchCV\n",
    "from sklearn.metrics import accuracy_score, f1_score, classification_report, confusion_matrix\n",
    "\n",
    "X_train = pd.read_pickle('./data/X_train_pickle.pkl')\n",
    "X_test = pd.read_pickle('./data/X_test_pickle.pkl')\n",
    "y_train = pd.read_pickle('./data/y_train_pickle.pkl')\n",
    "y_test = pd.read_pickle('./data/y_test_pickle.pkl')"
   ]
  },
  {
   "cell_type": "markdown",
   "metadata": {},
   "source": [
    "# <span style=\"color:green\">Beginning of KNN GridSearch</span>\n",
    "\n",
    "#### Adjust the variables to your liking."
   ]
  },
  {
   "cell_type": "code",
   "execution_count": 2,
   "metadata": {},
   "outputs": [],
   "source": [
    "neighbors = list(range(1,13))         # Set the range of neighbors we want to test against.\n",
    "cv=5                                  # Set the number of CrossValidations"
   ]
  },
  {
   "cell_type": "markdown",
   "metadata": {},
   "source": [
    "### The cell below takes <span style=\"color:orange\">5 minutes</span> to run \n",
    "The results will be saved to your disk allowing you to explore futher at a later time without needing to re-run this cell every time."
   ]
  },
  {
   "cell_type": "code",
   "execution_count": 3,
   "metadata": {},
   "outputs": [
    {
     "name": "stdout",
     "output_type": "stream",
     "text": [
      "Fitting 5 folds for each of 12 candidates, totalling 60 fits\n",
      "[Parallel(n_jobs=-2)]: Using backend LokyBackend with 7 concurrent workers.\n",
      "[Parallel(n_jobs=-2)]: Done   1 tasks      | elapsed:   31.5s\n",
      "[Parallel(n_jobs=-2)]: Done   2 tasks      | elapsed:   32.0s\n",
      "[Parallel(n_jobs=-2)]: Done   3 tasks      | elapsed:   32.1s\n",
      "[Parallel(n_jobs=-2)]: Done   4 tasks      | elapsed:   32.2s\n",
      "[Parallel(n_jobs=-2)]: Done   5 tasks      | elapsed:   32.4s\n",
      "[Parallel(n_jobs=-2)]: Done   6 tasks      | elapsed:   32.6s\n",
      "[Parallel(n_jobs=-2)]: Done   7 tasks      | elapsed:   32.8s\n",
      "[Parallel(n_jobs=-2)]: Done   8 tasks      | elapsed:  1.1min\n",
      "[Parallel(n_jobs=-2)]: Done   9 tasks      | elapsed:  1.1min\n",
      "[Parallel(n_jobs=-2)]: Done  10 tasks      | elapsed:  1.1min\n",
      "[Parallel(n_jobs=-2)]: Done  11 tasks      | elapsed:  1.1min\n",
      "[Parallel(n_jobs=-2)]: Done  12 tasks      | elapsed:  1.1min\n",
      "[Parallel(n_jobs=-2)]: Done  13 tasks      | elapsed:  1.1min\n",
      "[Parallel(n_jobs=-2)]: Done  14 tasks      | elapsed:  1.1min\n",
      "[Parallel(n_jobs=-2)]: Done  15 tasks      | elapsed:  1.6min\n",
      "[Parallel(n_jobs=-2)]: Done  16 tasks      | elapsed:  1.6min\n",
      "[Parallel(n_jobs=-2)]: Done  17 tasks      | elapsed:  1.6min\n",
      "[Parallel(n_jobs=-2)]: Done  18 tasks      | elapsed:  1.6min\n",
      "[Parallel(n_jobs=-2)]: Done  19 tasks      | elapsed:  1.6min\n",
      "[Parallel(n_jobs=-2)]: Done  20 tasks      | elapsed:  1.6min\n",
      "[Parallel(n_jobs=-2)]: Done  21 tasks      | elapsed:  1.6min\n",
      "[Parallel(n_jobs=-2)]: Done  22 tasks      | elapsed:  2.1min\n",
      "[Parallel(n_jobs=-2)]: Done  23 tasks      | elapsed:  2.1min\n",
      "[Parallel(n_jobs=-2)]: Done  24 tasks      | elapsed:  2.1min\n",
      "[Parallel(n_jobs=-2)]: Done  25 tasks      | elapsed:  2.1min\n",
      "[Parallel(n_jobs=-2)]: Done  26 tasks      | elapsed:  2.2min\n",
      "[Parallel(n_jobs=-2)]: Done  27 tasks      | elapsed:  2.2min\n",
      "[Parallel(n_jobs=-2)]: Done  28 tasks      | elapsed:  2.2min\n",
      "[Parallel(n_jobs=-2)]: Done  29 tasks      | elapsed:  2.6min\n",
      "[Parallel(n_jobs=-2)]: Done  30 tasks      | elapsed:  2.6min\n",
      "[Parallel(n_jobs=-2)]: Done  31 tasks      | elapsed:  2.6min\n",
      "[Parallel(n_jobs=-2)]: Done  32 tasks      | elapsed:  2.7min\n",
      "[Parallel(n_jobs=-2)]: Done  33 tasks      | elapsed:  2.7min\n",
      "[Parallel(n_jobs=-2)]: Done  34 tasks      | elapsed:  2.7min\n",
      "[Parallel(n_jobs=-2)]: Done  35 tasks      | elapsed:  2.7min\n",
      "[Parallel(n_jobs=-2)]: Done  36 tasks      | elapsed:  3.1min\n",
      "[Parallel(n_jobs=-2)]: Done  37 tasks      | elapsed:  3.1min\n",
      "[Parallel(n_jobs=-2)]: Done  38 tasks      | elapsed:  3.1min\n",
      "[Parallel(n_jobs=-2)]: Done  39 tasks      | elapsed:  3.2min\n",
      "[Parallel(n_jobs=-2)]: Done  40 tasks      | elapsed:  3.2min\n",
      "[Parallel(n_jobs=-2)]: Done  41 tasks      | elapsed:  3.2min\n",
      "[Parallel(n_jobs=-2)]: Done  42 tasks      | elapsed:  3.2min\n",
      "[Parallel(n_jobs=-2)]: Done  43 tasks      | elapsed:  3.6min\n",
      "[Parallel(n_jobs=-2)]: Done  44 tasks      | elapsed:  3.6min\n",
      "[Parallel(n_jobs=-2)]: Done  45 tasks      | elapsed:  3.6min\n",
      "[Parallel(n_jobs=-2)]: Done  46 tasks      | elapsed:  3.6min\n",
      "[Parallel(n_jobs=-2)]: Done  47 tasks      | elapsed:  3.7min\n",
      "[Parallel(n_jobs=-2)]: Done  49 out of  60 | elapsed:  3.7min remaining:   49.6s\n",
      "[Parallel(n_jobs=-2)]: Done  51 out of  60 | elapsed:  4.1min remaining:   43.3s\n",
      "[Parallel(n_jobs=-2)]: Done  53 out of  60 | elapsed:  4.2min remaining:   32.9s\n",
      "[Parallel(n_jobs=-2)]: Done  55 out of  60 | elapsed:  4.2min remaining:   22.9s\n",
      "[Parallel(n_jobs=-2)]: Done  57 out of  60 | elapsed:  4.4min remaining:   13.9s\n",
      "[Parallel(n_jobs=-2)]: Done  60 out of  60 | elapsed:  4.5min finished\n",
      "Stored 'knn_grid_search' (GridSearchCV)\n"
     ]
    }
   ],
   "source": [
    "knn = KNeighborsClassifier()\n",
    "param_grid = [{'n_neighbors':neighbors}]                  # Set grid search parameters based on variables assigned above.\n",
    "\n",
    "knn_grid_search = GridSearchCV(knn, param_grid, cv=cv,    # Just passing in the variables assigned above.\n",
    "                               scoring='f1',              # We want to refit based on better f1 scores.\n",
    "                               n_jobs=-2,                 # Uses all but one of machine's processors.\n",
    "                               verbose=50)                # verbose > 0 gives us a progress bar to check on.\n",
    "\n",
    "knn_grid_search.fit(X_train, y_train)\n",
    "%store knn_grid_search                                    # This will store the results of the GridSearch"
   ]
  },
  {
   "cell_type": "markdown",
   "metadata": {},
   "source": [
    "# <span style=\"color:orange\">Review GridSeach Results.</span>\n",
    "#### Determine if there are any tunings we want to make before we test our model against the `test set`. "
   ]
  },
  {
   "cell_type": "code",
   "execution_count": 4,
   "metadata": {},
   "outputs": [
    {
     "name": "stdout",
     "output_type": "stream",
     "text": [
      "no stored variable # restores the results from our previous run of the above cell.\n"
     ]
    },
    {
     "data": {
      "text/plain": [
       "KNeighborsClassifier(algorithm='auto', leaf_size=30, metric='minkowski',\n",
       "                     metric_params=None, n_jobs=None, n_neighbors=7, p=2,\n",
       "                     weights='uniform')"
      ]
     },
     "execution_count": 4,
     "metadata": {},
     "output_type": "execute_result"
    }
   ],
   "source": [
    "%store -r knn_grid_search        # restores the results from our previous run of the above cell.\n",
    "knn_grid_search.best_estimator_  # outputs the best parameters to use based on our GridSearch"
   ]
  },
  {
   "cell_type": "code",
   "execution_count": 5,
   "metadata": {},
   "outputs": [
    {
     "data": {
      "text/plain": [
       "{'mean_fit_time': array([7.42890387, 6.53735375, 5.61207995, 5.09013515, 4.3696136 ,\n",
       "        3.79885969, 3.77890444, 2.81030388, 2.74073009, 2.79099298,\n",
       "        2.83283501, 2.55773764]),\n",
       " 'std_fit_time': array([0.26703551, 0.62906791, 0.50190945, 0.41616859, 0.56904426,\n",
       "        0.80109649, 0.35068593, 0.52419329, 0.39865585, 0.39374935,\n",
       "        0.23710683, 0.31309722]),\n",
       " 'mean_score_time': array([23.56473684, 25.00732288, 26.26069431, 27.1290411 , 27.48900776,\n",
       "        27.43284998, 26.82891345, 26.76296067, 26.37534509, 26.97425737,\n",
       "        27.6508534 , 19.17236819]),\n",
       " 'std_score_time': array([0.11727243, 0.8648556 , 0.2710232 , 0.15653306, 0.22498305,\n",
       "        0.19876049, 0.10282783, 0.10055369, 0.27695767, 0.42006919,\n",
       "        0.22018418, 4.28591412]),\n",
       " 'param_n_neighbors': masked_array(data=[1, 2, 3, 4, 5, 6, 7, 8, 9, 10, 11, 12],\n",
       "              mask=[False, False, False, False, False, False, False, False,\n",
       "                    False, False, False, False],\n",
       "        fill_value='?',\n",
       "             dtype=object),\n",
       " 'params': [{'n_neighbors': 1},\n",
       "  {'n_neighbors': 2},\n",
       "  {'n_neighbors': 3},\n",
       "  {'n_neighbors': 4},\n",
       "  {'n_neighbors': 5},\n",
       "  {'n_neighbors': 6},\n",
       "  {'n_neighbors': 7},\n",
       "  {'n_neighbors': 8},\n",
       "  {'n_neighbors': 9},\n",
       "  {'n_neighbors': 10},\n",
       "  {'n_neighbors': 11},\n",
       "  {'n_neighbors': 12}],\n",
       " 'split0_test_score': array([0.58823529, 0.50469799, 0.6021978 , 0.55532359, 0.60795243,\n",
       "        0.56734694, 0.61360239, 0.57603873, 0.60866261, 0.5804621 ,\n",
       "        0.60568793, 0.58001625]),\n",
       " 'split1_test_score': array([0.60481339, 0.53818828, 0.62850893, 0.58921162, 0.63612663,\n",
       "        0.60990585, 0.64350453, 0.61313869, 0.63643235, 0.61290323,\n",
       "        0.6383624 , 0.60953921]),\n",
       " 'split2_test_score': array([0.57369693, 0.490161  , 0.61090641, 0.55780591, 0.6242515 ,\n",
       "        0.58115401, 0.62352493, 0.5877012 , 0.62639477, 0.59430458,\n",
       "        0.62548263, 0.59722222]),\n",
       " 'split3_test_score': array([0.58930444, 0.5139514 , 0.61962751, 0.56881497, 0.62249727,\n",
       "        0.58895207, 0.61412639, 0.59450727, 0.6261788 , 0.60344138,\n",
       "        0.62891657, 0.60632759]),\n",
       " 'split4_test_score': array([0.57473684, 0.5070922 , 0.60652174, 0.57001239, 0.6152158 ,\n",
       "        0.58662369, 0.61675978, 0.58694771, 0.61370482, 0.58225806,\n",
       "        0.60266667, 0.58012821]),\n",
       " 'mean_test_score': array([0.58615848, 0.51081903, 0.61355284, 0.56823391, 0.62120899,\n",
       "        0.58679664, 0.62230423, 0.59166708, 0.62227498, 0.59467443,\n",
       "        0.62022397, 0.5946472 ]),\n",
       " 'std_test_score': array([0.01138399, 0.01572952, 0.00944457, 0.01199219, 0.00943561,\n",
       "        0.01377654, 0.01117449, 0.01225915, 0.00991387, 0.0123732 ,\n",
       "        0.01379695, 0.01256751]),\n",
       " 'rank_test_score': array([10, 12,  5, 11,  3,  9,  1,  8,  2,  6,  4,  7], dtype=int32)}"
      ]
     },
     "execution_count": 5,
     "metadata": {},
     "output_type": "execute_result"
    }
   ],
   "source": [
    "# Use cv results to determine next best steps for tuning the model. \n",
    "# THEN when we feel that our model is as best as can be, pass in the test.\n",
    "knn_grid_search.cv_results_ "
   ]
  },
  {
   "cell_type": "markdown",
   "metadata": {},
   "source": [
    "# <span style=\"color:red\">Final Test Calculation</span>\n",
    "\n",
    "Now that we're comfortable with the hyper tunings of our parameters, we can finally run our model on our `test set` to truly challenge our model and determine an unbiased result."
   ]
  },
  {
   "cell_type": "code",
   "execution_count": 6,
   "metadata": {},
   "outputs": [
    {
     "name": "stdout",
     "output_type": "stream",
     "text": [
      "After hyper tuning the KNN model, the best accuracy we could compute was 84.111 with a f1 score of 62.23\n",
      "Stored 'knn' (dict)\n"
     ]
    }
   ],
   "source": [
    "y_pred = knn_grid_search.predict(X_test)                # predicting y hat\n",
    "knn_acc = round(accuracy_score(y_test, y_pred)*100, 3)  # calculating accuracy\n",
    "knn_f1 = round(knn_grid_search.best_score_*100, 3)      # calculating F1 Score\n",
    "print(\"After hyper tuning the KNN model, the best accuracy we could compute was {} with a f1 score of {}\".format(knn_acc, knn_f1))\n",
    "\n",
    "knn = {'accuracy': knn_acc,\n",
    "       'f1': knn_f1}\n",
    "%store knn"
   ]
  },
  {
   "cell_type": "markdown",
   "metadata": {},
   "source": [
    "# Plot Confusion Matrix\n",
    "\n",
    ">https://scikit-learn.org/stable/auto_examples/model_selection/plot_confusion_matrix.html"
   ]
  },
  {
   "cell_type": "code",
   "execution_count": 7,
   "metadata": {},
   "outputs": [],
   "source": [
    "# from sklearn.metrics, we use confusion_matrix and pass in the y_test and y hat; saving the result as cm.\n",
    "# this will calculate how many true positives, true negatives, false positives, and false negatives there are.\n",
    "cm = confusion_matrix(y_test,y_pred)\n",
    "\n",
    "# because we're aiming to predict a value over/under 50K, we set the classes appropriately. \n",
    "classes = ['<=50K', '>50K']"
   ]
  },
  {
   "cell_type": "code",
   "execution_count": 8,
   "metadata": {},
   "outputs": [],
   "source": [
    "def plot_confusion_matrix(cm, classes,\n",
    "                          normalize=False,\n",
    "                          title='Confusion matrix',\n",
    "                          cmap=plt.cm.Greens):\n",
    "    \"\"\"\n",
    "    This function prints and plots the confusion matrix.\n",
    "    Normalization can be applied by setting `normalize=True`.\n",
    "    \"\"\"\n",
    "    if normalize:\n",
    "#         if normalized, convert the confusion matrix to a float, then divide the top quadrants by the summation of the top row\n",
    "#           and bottom quadrants by the summation of the bottom row to get a percentage for each quadrant.\n",
    "        cm = cm.astype('float') / cm.sum(axis=1)[:, np.newaxis] \n",
    "        print(\"Normalized confusion matrix\")\n",
    "    else:\n",
    "        print('Confusion Matrix, without normalization')\n",
    "\n",
    "    print(cm)\n",
    "\n",
    "#     Set the plt with the confusion matrix, the colors defined (in this case default)\n",
    "    plt.imshow(cm, interpolation='nearest', cmap=cmap) # <- What is interpolation?\n",
    "    plt.title(title)\n",
    "    plt.colorbar()\n",
    "    tick_marks = np.arange(len(classes)) \n",
    "    plt.xticks(tick_marks, classes, rotation=45)\n",
    "    plt.yticks(tick_marks, classes)\n",
    "\n",
    "# what is all of this?\n",
    "    fmt = '.2f' if normalize else 'd'\n",
    "    thresh = cm.max() / 2.\n",
    "    for i, j in itertools.product(range(cm.shape[0]), range(cm.shape[1])):\n",
    "        plt.text(j, i, format(cm[i, j], fmt),\n",
    "                 horizontalalignment=\"center\",\n",
    "                 color=\"white\" if cm[i, j] > thresh else \"black\")\n",
    "    plt.tight_layout()\n",
    "    plt.ylabel('True label')\n",
    "    plt.xlabel('Predicted label')"
   ]
  },
  {
   "cell_type": "code",
   "execution_count": 9,
   "metadata": {},
   "outputs": [
    {
     "name": "stdout",
     "output_type": "stream",
     "text": [
      "Confusion Matrix, without normalization\n",
      "[[625  54]\n",
      " [ 89 132]]\n"
     ]
    },
    {
     "data": {
      "image/png": "[encoded data removed]",
      "text/plain": [
       "<Figure size 432x288 with 2 Axes>"
      ]
     },
     "metadata": {
      "needs_background": "light"
     },
     "output_type": "display_data"
    }
   ],
   "source": [
    "plot_confusion_matrix(cm, classes=classes)"
   ]
  },
  {
   "cell_type": "code",
   "execution_count": 10,
   "metadata": {},
   "outputs": [
    {
     "name": "stdout",
     "output_type": "stream",
     "text": [
      "Normalized confusion matrix\n",
      "[[0.92047128 0.07952872]\n",
      " [0.40271493 0.59728507]]\n"
     ]
    },
    {
     "data": {
      "image/png": "[encoded data removed]",
      "text/plain": [
       "<Figure size 432x288 with 2 Axes>"
      ]
     },
     "metadata": {
      "needs_background": "light"
     },
     "output_type": "display_data"
    }
   ],
   "source": [
    "plot_confusion_matrix(cm, classes=classes, normalize=True)"
   ]
  }
 ],
 "metadata": {
  "kernelspec": {
   "display_name": "Python 3",
   "language": "python",
   "name": "python3"
  },
  "language_info": {
   "codemirror_mode": {
    "name": "ipython",
    "version": 3
   },
   "file_extension": ".py",
   "mimetype": "text/x-python",
   "name": "python",
   "nbconvert_exporter": "python",
   "pygments_lexer": "ipython3",
   "version": "3.7.4"
  }
 },
 "nbformat": 4,
 "nbformat_minor": 4
}
