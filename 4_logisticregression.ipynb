{
 "cells": [
  {
   "cell_type": "code",
   "execution_count": 1,
   "metadata": {},
   "outputs": [],
   "source": [
    "import pandas as pd\n",
    "from sklearn.linear_model import LogisticRegression\n",
    "from sklearn.model_selection import GridSearchCV\n",
    "from sklearn.metrics import classification_report, confusion_matrix, accuracy_score, f1_score"
   ]
  },
  {
   "cell_type": "code",
   "execution_count": 2,
   "metadata": {},
   "outputs": [],
   "source": [
    "X_train = pd.read_pickle('./data/X_train_pickle.pkl')\n",
    "X_test = pd.read_pickle('./data/X_test_pickle.pkl')\n",
    "y_train = pd.read_pickle('./data/y_train_pickle.pkl')\n",
    "y_test = pd.read_pickle('./data/y_test_pickle.pkl')"
   ]
  },
  {
   "cell_type": "markdown",
   "metadata": {},
   "source": [
    "# Logistic Regression"
   ]
  },
  {
   "cell_type": "code",
   "execution_count": 3,
   "metadata": {},
   "outputs": [],
   "source": [
    "# Hyper tuning LR within a range of degrees\n",
    "cv = 5\n",
    "log_scale = [.001, .01, .1, 1, 10, 100, 1000]"
   ]
  },
  {
   "cell_type": "code",
   "execution_count": 4,
   "metadata": {},
   "outputs": [
    {
     "name": "stdout",
     "output_type": "stream",
     "text": [
      "Fitting 5 folds for each of 7 candidates, totalling 35 fits\n",
      "[Parallel(n_jobs=-2)]: Using backend LokyBackend with 7 concurrent workers.\n",
      "[Parallel(n_jobs=-2)]: Done   1 tasks      | elapsed:    1.6s\n",
      "[Parallel(n_jobs=-2)]: Done   2 tasks      | elapsed:    1.6s\n",
      "[Parallel(n_jobs=-2)]: Done   3 tasks      | elapsed:    1.6s\n",
      "[Parallel(n_jobs=-2)]: Done   4 tasks      | elapsed:    1.6s\n",
      "[Parallel(n_jobs=-2)]: Done   5 tasks      | elapsed:    1.6s\n",
      "[Parallel(n_jobs=-2)]: Done   6 tasks      | elapsed:    2.1s\n",
      "[Parallel(n_jobs=-2)]: Done   7 tasks      | elapsed:    2.1s\n",
      "[Parallel(n_jobs=-2)]: Done   8 tasks      | elapsed:    2.6s\n",
      "[Parallel(n_jobs=-2)]: Done   9 tasks      | elapsed:    2.7s\n",
      "[Parallel(n_jobs=-2)]: Done  10 tasks      | elapsed:    2.7s\n",
      "[Parallel(n_jobs=-2)]: Done  11 tasks      | elapsed:    3.1s\n",
      "[Parallel(n_jobs=-2)]: Done  12 tasks      | elapsed:    3.3s\n",
      "[Parallel(n_jobs=-2)]: Done  13 tasks      | elapsed:    3.4s\n",
      "[Parallel(n_jobs=-2)]: Done  14 tasks      | elapsed:    3.5s\n",
      "[Parallel(n_jobs=-2)]: Done  15 tasks      | elapsed:    4.0s\n",
      "[Parallel(n_jobs=-2)]: Done  16 tasks      | elapsed:    4.5s\n",
      "[Parallel(n_jobs=-2)]: Done  17 tasks      | elapsed:    4.5s\n",
      "[Parallel(n_jobs=-2)]: Done  18 tasks      | elapsed:    4.7s\n",
      "[Parallel(n_jobs=-2)]: Done  19 tasks      | elapsed:    4.9s\n",
      "[Parallel(n_jobs=-2)]: Done  20 tasks      | elapsed:    5.0s\n",
      "[Parallel(n_jobs=-2)]: Done  21 tasks      | elapsed:    5.0s\n",
      "[Parallel(n_jobs=-2)]: Done  22 tasks      | elapsed:    5.3s\n",
      "[Parallel(n_jobs=-2)]: Done  23 out of  35 | elapsed:    5.5s remaining:    2.9s\n",
      "[Parallel(n_jobs=-2)]: Done  24 out of  35 | elapsed:    5.6s remaining:    2.5s\n",
      "[Parallel(n_jobs=-2)]: Done  25 out of  35 | elapsed:    5.7s remaining:    2.3s\n",
      "[Parallel(n_jobs=-2)]: Done  26 out of  35 | elapsed:    5.8s remaining:    2.0s\n",
      "[Parallel(n_jobs=-2)]: Done  27 out of  35 | elapsed:    5.9s remaining:    1.7s\n",
      "[Parallel(n_jobs=-2)]: Done  28 out of  35 | elapsed:    6.4s remaining:    1.6s\n",
      "[Parallel(n_jobs=-2)]: Done  29 out of  35 | elapsed:    6.5s remaining:    1.3s\n",
      "[Parallel(n_jobs=-2)]: Done  30 out of  35 | elapsed:    6.6s remaining:    1.1s\n",
      "[Parallel(n_jobs=-2)]: Done  31 out of  35 | elapsed:    6.9s remaining:    0.9s\n",
      "[Parallel(n_jobs=-2)]: Done  32 out of  35 | elapsed:    6.9s remaining:    0.6s\n",
      "[Parallel(n_jobs=-2)]: Done  33 out of  35 | elapsed:    7.0s remaining:    0.4s\n",
      "[Parallel(n_jobs=-2)]: Done  35 out of  35 | elapsed:    7.1s remaining:    0.0s\n",
      "[Parallel(n_jobs=-2)]: Done  35 out of  35 | elapsed:    7.1s finished\n",
      "Stored 'lr_grid_search' (GridSearchCV)\n"
     ]
    }
   ],
   "source": [
    "# Run this cell once to save results to your disk.\n",
    "# Will take about <3 seconds to run. \n",
    "lr = LogisticRegression(solver='lbfgs', multi_class='multinomial', random_state=0)\n",
    "param_grid = [{'C': log_scale}]\n",
    "\n",
    "lr_grid_search = GridSearchCV(lr, param_grid, cv=cv,  # Just passing in the variables declared above\n",
    "                              scoring='f1',\n",
    "                              n_jobs=-2,                               # Uses all but one of machine's processors.\n",
    "                              verbose=50)                              # verbose > 0 gives us a progress bar to check on.\n",
    "lr_grid_search.fit(X_train, y_train) \n",
    "lr_grid_search.best_estimator_\n",
    "%store lr_grid_search"
   ]
  },
  {
   "cell_type": "markdown",
   "metadata": {},
   "source": [
    "# End of GridSearch -> Calculate Results"
   ]
  },
  {
   "cell_type": "code",
   "execution_count": 5,
   "metadata": {},
   "outputs": [
    {
     "name": "stdout",
     "output_type": "stream",
     "text": [
      "Logistic Regression correctly identified 84.58% of the True Values\n",
      "The F1 score determined that the LR correctly identified 65.56% of the True Positives\n",
      "Stored 'lr' (dict)\n"
     ]
    }
   ],
   "source": [
    "%store -r lr_grid_search\n",
    "\n",
    "y_pred = lr_grid_search.predict(X_test)\n",
    "lr_acc = round(accuracy_score(y_test, y_pred)*100, 2)\n",
    "lr_f1 = round(lr_grid_search.best_score_*100, 2)\n",
    "print(\"Logistic Regression correctly identified {}% of the True Values\".format(lr_acc))\n",
    "print('The F1 score determined that the LR correctly identified {}% of the True Positives'.format(lr_f1))\n",
    "\n",
    "lr = {'accuracy': lr_acc,\n",
    "      'f1': lr_f1 }\n",
    "%store lr"
   ]
  }
 ],
 "metadata": {
  "kernelspec": {
   "display_name": "Python 3",
   "language": "python",
   "name": "python3"
  },
  "language_info": {
   "codemirror_mode": {
    "name": "ipython",
    "version": 3
   },
   "file_extension": ".py",
   "mimetype": "text/x-python",
   "name": "python",
   "nbconvert_exporter": "python",
   "pygments_lexer": "ipython3",
   "version": "3.7.4"
  }
 },
 "nbformat": 4,
 "nbformat_minor": 4
}
