{
 "cells": [
  {
   "cell_type": "code",
   "execution_count": 1,
   "metadata": {},
   "outputs": [],
   "source": [
    "import pandas as pd\n",
    "from sklearn.linear_model import LogisticRegression\n",
    "from sklearn.model_selection import GridSearchCV\n",
    "from sklearn.metrics import classification_report, confusion_matrix, accuracy_score, f1_score"
   ]
  },
  {
   "cell_type": "code",
   "execution_count": 2,
   "metadata": {},
   "outputs": [],
   "source": [
    "X_train = pd.read_pickle('./data/X_train_pickle.pkl')\n",
    "X_test = pd.read_pickle('./data/X_test_pickle.pkl')\n",
    "y_train = pd.read_pickle('./data/y_train_pickle.pkl')\n",
    "y_test = pd.read_pickle('./data/y_test_pickle.pkl')"
   ]
  },
  {
   "cell_type": "markdown",
   "metadata": {},
   "source": [
    "# Logistic Regression"
   ]
  },
  {
   "cell_type": "code",
   "execution_count": 3,
   "metadata": {},
   "outputs": [],
   "source": [
    "# Hyper tuning LR within a range of degrees\n",
    "cv = 5\n",
    "log_scale = [.001, .01, .1, 1, 10, 100, 1000]"
   ]
  },
  {
   "cell_type": "code",
   "execution_count": 14,
   "metadata": {},
   "outputs": [
    {
     "name": "stdout",
     "output_type": "stream",
     "text": [
      "Fitting 5 folds for each of 7 candidates, totalling 35 fits\n",
      "[Parallel(n_jobs=-2)]: Using backend LokyBackend with 7 concurrent workers.\n",
      "[Parallel(n_jobs=-2)]: Done   1 tasks      | elapsed:    0.3s\n",
      "[Parallel(n_jobs=-2)]: Done   2 tasks      | elapsed:    0.3s\n",
      "[Parallel(n_jobs=-2)]: Done   3 tasks      | elapsed:    0.3s\n",
      "[Parallel(n_jobs=-2)]: Done   4 tasks      | elapsed:    0.4s\n",
      "[Parallel(n_jobs=-2)]: Done   5 tasks      | elapsed:    0.4s\n",
      "[Parallel(n_jobs=-2)]: Done   6 tasks      | elapsed:    0.5s\n",
      "[Parallel(n_jobs=-2)]: Done   7 tasks      | elapsed:    0.6s\n",
      "[Parallel(n_jobs=-2)]: Done   8 tasks      | elapsed:    0.7s\n",
      "[Parallel(n_jobs=-2)]: Done   9 tasks      | elapsed:    0.7s\n",
      "[Parallel(n_jobs=-2)]: Done  10 tasks      | elapsed:    0.7s\n",
      "[Parallel(n_jobs=-2)]: Done  11 tasks      | elapsed:    0.8s\n",
      "[Parallel(n_jobs=-2)]: Done  12 tasks      | elapsed:    0.8s\n",
      "[Parallel(n_jobs=-2)]: Done  13 tasks      | elapsed:    1.0s\n",
      "[Parallel(n_jobs=-2)]: Done  14 tasks      | elapsed:    1.0s\n",
      "[Parallel(n_jobs=-2)]: Done  15 tasks      | elapsed:    1.1s\n",
      "[Parallel(n_jobs=-2)]: Done  16 tasks      | elapsed:    1.2s\n",
      "[Parallel(n_jobs=-2)]: Done  17 tasks      | elapsed:    1.3s\n",
      "[Parallel(n_jobs=-2)]: Done  18 tasks      | elapsed:    1.4s\n",
      "[Parallel(n_jobs=-2)]: Done  19 tasks      | elapsed:    1.4s\n",
      "[Parallel(n_jobs=-2)]: Done  20 tasks      | elapsed:    1.5s\n",
      "[Parallel(n_jobs=-2)]: Done  21 tasks      | elapsed:    1.5s\n",
      "[Parallel(n_jobs=-2)]: Done  22 tasks      | elapsed:    1.5s\n",
      "[Parallel(n_jobs=-2)]: Done  23 out of  35 | elapsed:    1.6s remaining:    0.8s\n",
      "[Parallel(n_jobs=-2)]: Done  24 out of  35 | elapsed:    1.7s remaining:    0.8s\n",
      "[Parallel(n_jobs=-2)]: Done  25 out of  35 | elapsed:    1.7s remaining:    0.7s\n",
      "[Parallel(n_jobs=-2)]: Done  26 out of  35 | elapsed:    1.8s remaining:    0.6s\n",
      "[Parallel(n_jobs=-2)]: Done  27 out of  35 | elapsed:    1.8s remaining:    0.5s\n",
      "[Parallel(n_jobs=-2)]: Done  28 out of  35 | elapsed:    1.9s remaining:    0.5s\n",
      "[Parallel(n_jobs=-2)]: Done  29 out of  35 | elapsed:    2.0s remaining:    0.4s\n",
      "[Parallel(n_jobs=-2)]: Done  30 out of  35 | elapsed:    2.0s remaining:    0.3s\n",
      "[Parallel(n_jobs=-2)]: Done  31 out of  35 | elapsed:    2.0s remaining:    0.3s\n",
      "[Parallel(n_jobs=-2)]: Done  32 out of  35 | elapsed:    2.1s remaining:    0.2s\n",
      "[Parallel(n_jobs=-2)]: Done  33 out of  35 | elapsed:    2.2s remaining:    0.1s\n",
      "[Parallel(n_jobs=-2)]: Done  35 out of  35 | elapsed:    2.2s remaining:    0.0s\n",
      "[Parallel(n_jobs=-2)]: Done  35 out of  35 | elapsed:    2.2s finished\n",
      "Stored 'lr_grid_search' (GridSearchCV)\n"
     ]
    },
    {
     "data": {
      "text/plain": [
       "LogisticRegression(C=0.01, class_weight=None, dual=False, fit_intercept=True,\n",
       "                   intercept_scaling=1, l1_ratio=None, max_iter=100,\n",
       "                   multi_class='multinomial', n_jobs=None, penalty='l2',\n",
       "                   random_state=0, solver='lbfgs', tol=0.0001, verbose=0,\n",
       "                   warm_start=False)"
      ]
     },
     "execution_count": 14,
     "metadata": {},
     "output_type": "execute_result"
    }
   ],
   "source": [
    "lr = LogisticRegression(solver='lbfgs', multi_class='multinomial', random_state=0)\n",
    "param_grid = [{'C': log_scale}]\n",
    "\n",
    "lr_grid_search = GridSearchCV(lr, param_grid, cv=cv,  # Just passing in the variables declared above\n",
    "                              scoring='f1',\n",
    "                              n_jobs=-2,                               # Uses all but one of machine's processors.\n",
    "                              return_train_score=True,                 # ???\n",
    "                              verbose=50)                              # verbose > 0 gives us a progress bar to check on.\n",
    "lr_grid_search.fit(X_train, y_train) \n",
    "%store lr_grid_search\n",
    "lr_grid_search.best_estimator_"
   ]
  },
  {
   "cell_type": "code",
   "execution_count": 19,
   "metadata": {},
   "outputs": [
    {
     "name": "stdout",
     "output_type": "stream",
     "text": [
      "Logistic Regression correctly identified 84.61% of the True Values\n",
      "The F1 score determined that the LR correctly identified 65.56% of the True Positives\n",
      "Stored 'lr' (dict)\n"
     ]
    }
   ],
   "source": [
    "y_pred = lr_grid_search.predict(X_test)\n",
    "lr_acc = round(accuracy_score(y_test, y_pred)*100, 2)\n",
    "lr_f1 = round(lr_grid_search.best_score_*100, 2)\n",
    "print(\"Logistic Regression correctly identified {}% of the True Values\".format(lr_acc))\n",
    "print('The F1 score determined that the LR correctly identified {}% of the True Positives'.format(lr_f1))\n",
    "\n",
    "lr = {\n",
    "    'accuracy': lr_acc,\n",
    "    'f1': lr_f1\n",
    "}\n",
    "%store lr"
   ]
  },
  {
   "cell_type": "markdown",
   "metadata": {},
   "source": [
    "# End of GridSearch"
   ]
  }
 ],
 "metadata": {
  "kernelspec": {
   "display_name": "Python 3",
   "language": "python",
   "name": "python3"
  },
  "language_info": {
   "codemirror_mode": {
    "name": "ipython",
    "version": 3
   },
   "file_extension": ".py",
   "mimetype": "text/x-python",
   "name": "python",
   "nbconvert_exporter": "python",
   "pygments_lexer": "ipython3",
   "version": "3.7.3"
  }
 },
 "nbformat": 4,
 "nbformat_minor": 4
}
