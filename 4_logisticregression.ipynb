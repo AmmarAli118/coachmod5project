{
 "cells": [
  {
   "cell_type": "code",
   "execution_count": 1,
   "metadata": {},
   "outputs": [],
   "source": [
    "import pandas as pd\n",
    "from sklearn.linear_model import LogisticRegression\n",
    "from sklearn.metrics import f1_score #, classification_report, confusion_matrix, accuracy_score"
   ]
  },
  {
   "cell_type": "code",
   "execution_count": 2,
   "metadata": {},
   "outputs": [],
   "source": [
    "X_train = pd.read_pickle('./data/X_train_pickle.pkl')\n",
    "X_test = pd.read_pickle('./data/X_test_pickle.pkl')\n",
    "y_train = pd.read_pickle('./data/y_train_pickle.pkl')\n",
    "y_test = pd.read_pickle('./data/y_test_pickle.pkl')"
   ]
  },
  {
   "cell_type": "markdown",
   "metadata": {},
   "source": [
    "# Logistic Regression"
   ]
  },
  {
   "cell_type": "code",
   "execution_count": 4,
   "metadata": {},
   "outputs": [
    {
     "name": "stdout",
     "output_type": "stream",
     "text": [
      "Logistic Regression correctly identified 84.66% of the True Values\n",
      "The F1 score determined that the LR correctly identified 66.13% of the True Positives\n",
      "Stored 'lr' (dict)\n"
     ]
    }
   ],
   "source": [
    "LR = LogisticRegression(random_state=0,           # Just like np.random.seed \n",
    "                        solver='lbfgs',           # diminishes *ALL* warnings. Different solvers diminish different warnings. Andy did it this way.\n",
    "                        C=1e9,                    # 1 x 10 ^ 9th power. Why is this the value of C?\n",
    "                        multi_class='multinomial' # indicates we're using multiple features and not just one vs target. \n",
    "                       ).fit(X_train, y_train)    # run of the mill fit method with training data.\n",
    "\n",
    "# Checking Accuracy \n",
    "LR_accuracy = round(LR.score(X_test,y_test)*100, 2)\n",
    "\n",
    "# Checking F1 Score\n",
    "pred = LR.predict(X_test) # Use LR to predict y values via X_test values.\n",
    "LR_f1 = round(f1_score(y_test, pred)*100, 2)\n",
    "\n",
    "# Storing LR scores for comparisons.\n",
    "lr = {\n",
    "    'accuracy': LR_accuracy,\n",
    "    'f1': LR_f1\n",
    "}\n",
    "\n",
    "print(\"Logistic Regression correctly identified {}% of the True Values\".format(LR_accuracy))\n",
    "print('The F1 score determined that the LR correctly identified {}% of the True Positives'.format(LR_f1))\n",
    "%store lr"
   ]
  },
  {
   "cell_type": "code",
   "execution_count": null,
   "metadata": {},
   "outputs": [],
   "source": []
  }
 ],
 "metadata": {
  "kernelspec": {
   "display_name": "Python 3",
   "language": "python",
   "name": "python3"
  },
  "language_info": {
   "codemirror_mode": {
    "name": "ipython",
    "version": 3
   },
   "file_extension": ".py",
   "mimetype": "text/x-python",
   "name": "python",
   "nbconvert_exporter": "python",
   "pygments_lexer": "ipython3",
   "version": "3.7.3"
  }
 },
 "nbformat": 4,
 "nbformat_minor": 4
}
