{
 "cells": [
  {
   "cell_type": "code",
   "execution_count": 1,
   "metadata": {},
   "outputs": [],
   "source": [
    "import pandas as pd\n",
    "from sklearn.linear_model import LogisticRegression\n",
    "from sklearn.model_selection import GridSearchCV\n",
    "from sklearn.metrics import accuracy_score, f1_score\n",
    "\n",
    "X_train = pd.read_pickle('./data/X_train_pickle.pkl')\n",
    "X_test = pd.read_pickle('./data/X_test_pickle.pkl')\n",
    "y_train = pd.read_pickle('./data/y_train_pickle.pkl')\n",
    "y_test = pd.read_pickle('./data/y_test_pickle.pkl')"
   ]
  },
  {
   "cell_type": "markdown",
   "metadata": {},
   "source": [
    "# <span style=\"color:green\">Beginning of Logistic Regression GridSearch</span>\n",
    "\n",
    "#### Adjust the variables to your liking."
   ]
  },
  {
   "cell_type": "code",
   "execution_count": 2,
   "metadata": {},
   "outputs": [],
   "source": [
    "c_scale = [.001, .01, .1, 1, 10, 100, 1000]   # Set a log scale of C values. \n",
    "cv = 5                                        # Set the number of CrossValidations"
   ]
  },
  {
   "cell_type": "markdown",
   "metadata": {},
   "source": [
    "### The cell below takes <span style=\"color:green\">3 seconds</span> to run \n",
    "The results will be saved to your disk allowing you to explore futher at a later time without needing to re-run this cell every time."
   ]
  },
  {
   "cell_type": "code",
   "execution_count": 3,
   "metadata": {},
   "outputs": [
    {
     "name": "stdout",
     "output_type": "stream",
     "text": [
      "Fitting 5 folds for each of 7 candidates, totalling 35 fits\n",
      "[Parallel(n_jobs=-2)]: Using backend LokyBackend with 7 concurrent workers.\n",
      "[Parallel(n_jobs=-2)]: Done   1 tasks      | elapsed:    1.3s\n",
      "[Parallel(n_jobs=-2)]: Done   2 tasks      | elapsed:    1.3s\n",
      "[Parallel(n_jobs=-2)]: Done   3 tasks      | elapsed:    1.3s\n",
      "[Parallel(n_jobs=-2)]: Done   4 tasks      | elapsed:    1.3s\n",
      "[Parallel(n_jobs=-2)]: Done   5 tasks      | elapsed:    1.4s\n",
      "[Parallel(n_jobs=-2)]: Done   6 tasks      | elapsed:    1.5s\n",
      "[Parallel(n_jobs=-2)]: Done   7 tasks      | elapsed:    1.6s\n",
      "[Parallel(n_jobs=-2)]: Done   8 tasks      | elapsed:    1.7s\n",
      "[Parallel(n_jobs=-2)]: Done   9 tasks      | elapsed:    1.7s\n",
      "[Parallel(n_jobs=-2)]: Done  10 tasks      | elapsed:    1.8s\n",
      "[Parallel(n_jobs=-2)]: Done  11 tasks      | elapsed:    2.0s\n",
      "[Parallel(n_jobs=-2)]: Done  12 tasks      | elapsed:    2.1s\n",
      "[Parallel(n_jobs=-2)]: Done  13 tasks      | elapsed:    2.3s\n",
      "[Parallel(n_jobs=-2)]: Done  14 tasks      | elapsed:    2.3s\n",
      "[Parallel(n_jobs=-2)]: Done  15 tasks      | elapsed:    2.5s\n",
      "[Parallel(n_jobs=-2)]: Done  16 tasks      | elapsed:    2.6s\n",
      "[Parallel(n_jobs=-2)]: Done  17 tasks      | elapsed:    2.8s\n",
      "[Parallel(n_jobs=-2)]: Done  18 tasks      | elapsed:    3.1s\n",
      "[Parallel(n_jobs=-2)]: Done  19 tasks      | elapsed:    3.2s\n",
      "[Parallel(n_jobs=-2)]: Done  20 tasks      | elapsed:    3.4s\n",
      "[Parallel(n_jobs=-2)]: Done  21 tasks      | elapsed:    3.4s\n",
      "[Parallel(n_jobs=-2)]: Done  22 tasks      | elapsed:    3.6s\n",
      "[Parallel(n_jobs=-2)]: Done  23 out of  35 | elapsed:    3.7s remaining:    2.0s\n",
      "[Parallel(n_jobs=-2)]: Done  24 out of  35 | elapsed:    3.9s remaining:    1.8s\n",
      "[Parallel(n_jobs=-2)]: Done  25 out of  35 | elapsed:    4.2s remaining:    1.7s\n",
      "[Parallel(n_jobs=-2)]: Done  26 out of  35 | elapsed:    4.3s remaining:    1.5s\n",
      "[Parallel(n_jobs=-2)]: Done  27 out of  35 | elapsed:    4.5s remaining:    1.3s\n",
      "[Parallel(n_jobs=-2)]: Done  28 out of  35 | elapsed:    4.5s remaining:    1.1s\n",
      "[Parallel(n_jobs=-2)]: Done  29 out of  35 | elapsed:    4.7s remaining:    1.0s\n",
      "[Parallel(n_jobs=-2)]: Done  30 out of  35 | elapsed:    4.8s remaining:    0.8s\n",
      "[Parallel(n_jobs=-2)]: Done  31 out of  35 | elapsed:    5.0s remaining:    0.6s\n",
      "[Parallel(n_jobs=-2)]: Done  32 out of  35 | elapsed:    5.2s remaining:    0.5s\n",
      "[Parallel(n_jobs=-2)]: Done  33 out of  35 | elapsed:    5.2s remaining:    0.3s\n",
      "[Parallel(n_jobs=-2)]: Done  35 out of  35 | elapsed:    5.3s remaining:    0.0s\n",
      "[Parallel(n_jobs=-2)]: Done  35 out of  35 | elapsed:    5.3s finished\n",
      "Stored 'lr_grid_search' (GridSearchCV)\n"
     ]
    },
    {
     "name": "stderr",
     "output_type": "stream",
     "text": [
      "/usr/local/lib/python3.7/site-packages/sklearn/linear_model/logistic.py:947: ConvergenceWarning: lbfgs failed to converge. Increase the number of iterations.\n",
      "  \"of iterations.\", ConvergenceWarning)\n"
     ]
    }
   ],
   "source": [
    "lr = LogisticRegression(solver='lbfgs', random_state=0)\n",
    "param_grid = [{'C': c_scale}]                         # Set grid search parameters based on variables assigned above.\n",
    "\n",
    "lr_grid_search = GridSearchCV(lr, param_grid, cv=cv,  # Just passing in the variables declared above\n",
    "                              scoring='f1',           # We want to refit based on better f1 scores.\n",
    "                              n_jobs=-2,              # Uses all but one of machine's processors.\n",
    "                              verbose=50)             # verbose > 0 gives us a progress bar to check on.\n",
    "\n",
    "lr_grid_search.fit(X_train, y_train) \n",
    "%store lr_grid_search"
   ]
  },
  {
   "cell_type": "markdown",
   "metadata": {},
   "source": [
    "# <span style=\"color:orange\">Review GridSeach Results.</span>\n",
    "#### Determine if there are any tunings we want to make before we test our model against the `test set`. "
   ]
  },
  {
   "cell_type": "code",
   "execution_count": 4,
   "metadata": {},
   "outputs": [
    {
     "name": "stdout",
     "output_type": "stream",
     "text": [
      "no stored variable # restores the results from our previous run of the above cell.\n"
     ]
    },
    {
     "data": {
      "text/plain": [
       "LogisticRegression(C=1000, class_weight=None, dual=False, fit_intercept=True,\n",
       "                   intercept_scaling=1, l1_ratio=None, max_iter=100,\n",
       "                   multi_class='warn', n_jobs=None, penalty='l2',\n",
       "                   random_state=0, solver='lbfgs', tol=0.0001, verbose=0,\n",
       "                   warm_start=False)"
      ]
     },
     "execution_count": 4,
     "metadata": {},
     "output_type": "execute_result"
    }
   ],
   "source": [
    "%store -r lr_grid_search          # restores the results from our previous run of the above cell.\n",
    "lr_grid_search.best_estimator_    # outputs the best parameters to use based on our GridSearch"
   ]
  },
  {
   "cell_type": "markdown",
   "metadata": {},
   "source": [
    "# <span style=\"color:red\">Final Test Calculation</span>\n",
    "\n",
    "Now that we're comfortable with the hyper tunings of our parameters, we can finally run our model on our `test set` to truly challenge our model and determine an unbiased result."
   ]
  },
  {
   "cell_type": "code",
   "execution_count": 5,
   "metadata": {},
   "outputs": [
    {
     "name": "stdout",
     "output_type": "stream",
     "text": [
      "After hyper tuning the Logistic Regression model, the best accuracy we could compute was 84.89 with a f1 score of 65.75\n",
      "Stored 'lr' (dict)\n"
     ]
    }
   ],
   "source": [
    "y_pred = lr_grid_search.predict(X_test)                 # predicting y hat\n",
    "lr_acc = round(accuracy_score(y_test, y_pred)*100, 2)   # calculating accuracy\n",
    "lr_f1 = round(lr_grid_search.best_score_*100, 2)        # calculating F1 Score\n",
    "print(\"After hyper tuning the Logistic Regression model, the best accuracy we could compute was {} with a f1 score of {}\".format(lr_acc, lr_f1))\n",
    "\n",
    "lr = {'accuracy': lr_acc,\n",
    "      'f1': lr_f1 }\n",
    "%store lr"
   ]
  }
 ],
 "metadata": {
  "kernelspec": {
   "display_name": "Python 3",
   "language": "python",
   "name": "python3"
  },
  "language_info": {
   "codemirror_mode": {
    "name": "ipython",
    "version": 3
   },
   "file_extension": ".py",
   "mimetype": "text/x-python",
   "name": "python",
   "nbconvert_exporter": "python",
   "pygments_lexer": "ipython3",
   "version": "3.7.4"
  }
 },
 "nbformat": 4,
 "nbformat_minor": 4
}
