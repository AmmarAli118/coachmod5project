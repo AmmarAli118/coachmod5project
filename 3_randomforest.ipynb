{
 "cells": [
  {
   "cell_type": "code",
   "execution_count": 1,
   "metadata": {},
   "outputs": [],
   "source": [
    "import numpy as np\n",
    "import pandas as pd\n",
    "import matplotlib.pyplot as plt\n",
    "\n",
    "from sklearn.ensemble import RandomForestClassifier\n",
    "from sklearn.metrics import accuracy_score, f1_score #classification_report, confusion_matrix, \n",
    "# from sklearn.model_selection import cross_val_score"
   ]
  },
  {
   "cell_type": "code",
   "execution_count": 2,
   "metadata": {},
   "outputs": [],
   "source": [
    "X_train = pd.read_pickle('./data/X_train_pickle.pkl')\n",
    "X_test = pd.read_pickle('./data/X_test_pickle.pkl')\n",
    "y_train = pd.read_pickle('./data/y_train_pickle.pkl')\n",
    "y_test = pd.read_pickle('./data/y_test_pickle.pkl')"
   ]
  },
  {
   "cell_type": "markdown",
   "metadata": {},
   "source": [
    "# Random Forest Classifier"
   ]
  },
  {
   "cell_type": "code",
   "execution_count": 3,
   "metadata": {},
   "outputs": [
    {
     "name": "stdout",
     "output_type": "stream",
     "text": [
      "The Accuracy score determined that the RFC correctly identified 84.31% of the True Values\n",
      "The F1 score determined that the RFC correctly identified 61.86% of the True Positives\n"
     ]
    }
   ],
   "source": [
    "rfc = RandomForestClassifier(random_state = 23,     # like np.random.seed\n",
    "                             n_estimators=100,      # Why do we use 100 estimators?\n",
    "                             max_depth=8            # Why do we use a max of 8?\n",
    "                            ).fit(X_train, y_train) # run of the mill fit method with training data.\n",
    "# predicting y hat\n",
    "rfc_pred = rfc.predict(X_test)\n",
    "\n",
    "# checking accuracy\n",
    "RF_accuracy = round(accuracy_score(y_test, rfc_pred)*100, 2)\n",
    "print(\"The Accuracy score determined that the RFC correctly identified {}% of the True Values\".format(RF_accuracy))\n",
    "\n",
    "# How are the accuracy and f1 score related? how does one inform/affect the other?\n",
    "\n",
    "# checking F1 Score\n",
    "RF_f1 = round(f1_score(y_test, rfc_pred)*100, 2)\n",
    "print('The F1 score determined that the RFC correctly identified {}% of the True Positives'.format(RF_f1))"
   ]
  },
  {
   "cell_type": "code",
   "execution_count": null,
   "metadata": {},
   "outputs": [],
   "source": []
  }
 ],
 "metadata": {
  "kernelspec": {
   "display_name": "Python 3",
   "language": "python",
   "name": "python3"
  },
  "language_info": {
   "codemirror_mode": {
    "name": "ipython",
    "version": 3
   },
   "file_extension": ".py",
   "mimetype": "text/x-python",
   "name": "python",
   "nbconvert_exporter": "python",
   "pygments_lexer": "ipython3",
   "version": "3.7.3"
  }
 },
 "nbformat": 4,
 "nbformat_minor": 4
}
