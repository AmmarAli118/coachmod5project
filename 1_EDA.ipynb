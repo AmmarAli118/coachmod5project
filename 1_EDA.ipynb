{
 "cells": [
  {
   "cell_type": "code",
   "execution_count": 4,
   "metadata": {},
   "outputs": [],
   "source": [
    "import pandas as pd\n",
    "pd.set_option('display.max_columns', None)\n",
    "import missingno as msno\n",
    "from functions import *\n",
    "import seaborn as sns\n",
    "import matplotlib.pyplot as plt\n",
    "from scipy import stats\n",
    "\n",
    "from sklearn.model_selection import train_test_split\n",
    "\n",
    "import statsmodels.api as sm"
   ]
  },
  {
   "cell_type": "markdown",
   "metadata": {},
   "source": [
    "# Read in the Data"
   ]
  },
  {
   "cell_type": "code",
   "execution_count": 5,
   "metadata": {},
   "outputs": [],
   "source": [
    "column_names = ['age' , 'workclass' , 'fnlwgt' , 'education' , 'education-num' , 'marital-status' , 'occupation' , 'relationship' , 'race' , 'sex' , 'capital-gain' , 'capital-loss' , 'hours-per-week' , 'native-country', \"target\"]"
   ]
  },
  {
   "cell_type": "code",
   "execution_count": 6,
   "metadata": {},
   "outputs": [],
   "source": [
    "adultDF = pd.read_csv('./data/adult.data', index_col=False, names=column_names)"
   ]
  },
  {
   "cell_type": "code",
   "execution_count": 7,
   "metadata": {},
   "outputs": [
    {
     "name": "stdout",
     "output_type": "stream",
     "text": [
      "stripped leading/trailing spaces from all cells of string type\n"
     ]
    }
   ],
   "source": [
    "adultDF = strip_spaces(adultDF)"
   ]
  },
  {
   "cell_type": "code",
   "execution_count": null,
   "metadata": {},
   "outputs": [],
   "source": [
    "columns_with_placeholders = ['workclass', 'occupation', 'native-country']\n",
    "adultDF = replace_column_w_nan(adultDF, columns_with_placeholders, \"?\")"
   ]
  },
  {
   "cell_type": "code",
   "execution_count": null,
   "metadata": {},
   "outputs": [],
   "source": [
    "msno.matrix(adultDF)"
   ]
  },
  {
   "cell_type": "code",
   "execution_count": null,
   "metadata": {},
   "outputs": [],
   "source": [
    "for column in columns_with_placeholders:\n",
    "    missing_values = adultDF[column].isna().sum()\n",
    "    total_rows = adultDF.shape[0]\n",
    "    percentage = missing_values / total_rows\n",
    "    percentage = round(percentage * 100, 1)\n",
    "    print(\"The {} column is missing {}% of rows\".format(column, percentage))"
   ]
  },
  {
   "cell_type": "markdown",
   "metadata": {},
   "source": [
    "#### 99999 clearly is a placeholder value given that the next closest capital-gain value is 41310. Therefore, we could consider 99999 an outlier"
   ]
  },
  {
   "cell_type": "code",
   "execution_count": null,
   "metadata": {},
   "outputs": [],
   "source": [
    "adultDF[adultDF['capital-gain'] > 20000]['capital-gain'].value_counts().sort_index(ascending=False)"
   ]
  },
  {
   "cell_type": "code",
   "execution_count": null,
   "metadata": {},
   "outputs": [],
   "source": [
    "adultDF[adultDF['capital-gain'] == 99999].shape[0]/adultDF.shape[0] * 100"
   ]
  },
  {
   "cell_type": "markdown",
   "metadata": {},
   "source": [
    "#### Since .49% of the data is considered an outlier for capital-gain, we will drop those corresponding rows"
   ]
  },
  {
   "cell_type": "code",
   "execution_count": null,
   "metadata": {
    "scrolled": true
   },
   "outputs": [],
   "source": [
    "adultDF['hours-per-week'].value_counts().sort_index(ascending=False)"
   ]
  },
  {
   "cell_type": "markdown",
   "metadata": {},
   "source": [
    "#### The number of hours per week could very well reach 99 hours and could realistically dip down to 1 hour given that our data includes a younger population. Therefore, 'hours-per-week' will not be treated as if it contains outliers."
   ]
  },
  {
   "cell_type": "code",
   "execution_count": null,
   "metadata": {},
   "outputs": [],
   "source": [
    "adultDF.describe()"
   ]
  },
  {
   "cell_type": "code",
   "execution_count": null,
   "metadata": {},
   "outputs": [],
   "source": [
    "adultDF[adultDF['capital-gain'] > 0].shape[0]/adultDF.shape[0] * 100"
   ]
  },
  {
   "cell_type": "code",
   "execution_count": null,
   "metadata": {},
   "outputs": [],
   "source": [
    "adultDF[adultDF['capital-gain'] > 0].shape[0] "
   ]
  },
  {
   "cell_type": "markdown",
   "metadata": {},
   "source": [
    "#### 2712 people have made some kind of capital gain out of 32561"
   ]
  },
  {
   "cell_type": "markdown",
   "metadata": {},
   "source": [
    "# Check for Outliers"
   ]
  },
  {
   "cell_type": "code",
   "execution_count": 8,
   "metadata": {
    "scrolled": true
   },
   "outputs": [
    {
     "data": {
      "text/plain": [
       "4356     3\n",
       "3900     2\n",
       "3770     2\n",
       "3683     2\n",
       "3004     2\n",
       "2824    10\n",
       "2754     2\n",
       "2603     5\n",
       "2559    12\n",
       "2547     4\n",
       "2489     1\n",
       "2472     1\n",
       "2467     1\n",
       "2457     3\n",
       "2444    12\n",
       "2415    49\n",
       "2392     9\n",
       "2377    20\n",
       "2352     2\n",
       "2339    17\n",
       "2282     1\n",
       "2267     3\n",
       "2258    25\n",
       "2246     6\n",
       "2238     2\n",
       "2231     3\n",
       "2206     6\n",
       "2205     9\n",
       "2201     1\n",
       "2179    15\n",
       "        ..\n",
       "1668     4\n",
       "1651     9\n",
       "1648     2\n",
       "1628    15\n",
       "1617     9\n",
       "1602    47\n",
       "1594     8\n",
       "1590    40\n",
       "1579    20\n",
       "1573     6\n",
       "1564    25\n",
       "1539     1\n",
       "1504    18\n",
       "1485    51\n",
       "1411     1\n",
       "1408    21\n",
       "1380     7\n",
       "1340     7\n",
       "1258     4\n",
       "1138     2\n",
       "1092     7\n",
       "974      2\n",
       "880      6\n",
       "810      2\n",
       "653      3\n",
       "625     12\n",
       "419      3\n",
       "323      3\n",
       "213      4\n",
       "155      1\n",
       "Name: capital-loss, Length: 91, dtype: int64"
      ]
     },
     "execution_count": 8,
     "metadata": {},
     "output_type": "execute_result"
    },
    {
     "data": {
      "image/png": "[encoded data removed]",
      "text/plain": [
       "<Figure size 432x288 with 1 Axes>"
      ]
     },
     "metadata": {
      "needs_background": "light"
     },
     "output_type": "display_data"
    },
    {
     "data": {
      "image/png": "[encoded data removed]",
      "text/plain": [
       "<Figure size 432x288 with 1 Axes>"
      ]
     },
     "metadata": {
      "needs_background": "light"
     },
     "output_type": "display_data"
    },
    {
     "data": {
      "image/png": "[encoded data removed]",
      "text/plain": [
       "<Figure size 432x288 with 1 Axes>"
      ]
     },
     "metadata": {
      "needs_background": "light"
     },
     "output_type": "display_data"
    },
    {
     "data": {
      "image/png": "[encoded data removed]",
      "text/plain": [
       "<Figure size 432x288 with 1 Axes>"
      ]
     },
     "metadata": {
      "needs_background": "light"
     },
     "output_type": "display_data"
    },
    {
     "data": {
      "image/png": "[encoded data removed]",
      "text/plain": [
       "<Figure size 432x288 with 1 Axes>"
      ]
     },
     "metadata": {
      "needs_background": "light"
     },
     "output_type": "display_data"
    },
    {
     "data": {
      "image/png": "[encoded data removed]",
      "text/plain": [
       "<Figure size 432x288 with 1 Axes>"
      ]
     },
     "metadata": {
      "needs_background": "light"
     },
     "output_type": "display_data"
    }
   ],
   "source": [
    "continuous_columns = list(adultDF.describe().columns)\n",
    "\n",
    "for column in continuous_columns:\n",
    "    plt.figure()\n",
    "    adultDF.boxplot([column])\n",
    "\n",
    "adultDF[adultDF['capital-gain'] > 20000]['capital-gain'].value_counts().sort_index(ascending=False)\n",
    "\n",
    "adultDF[adultDF['capital-loss'] > 0]['capital-loss'].value_counts().sort_index(ascending=False)"
   ]
  },
  {
   "cell_type": "code",
   "execution_count": null,
   "metadata": {},
   "outputs": [],
   "source": []
  }
 ],
 "metadata": {
  "kernelspec": {
   "display_name": "Python 3",
   "language": "python",
   "name": "python3"
  },
  "language_info": {
   "codemirror_mode": {
    "name": "ipython",
    "version": 3
   },
   "file_extension": ".py",
   "mimetype": "text/x-python",
   "name": "python",
   "nbconvert_exporter": "python",
   "pygments_lexer": "ipython3",
   "version": "3.7.3"
  }
 },
 "nbformat": 4,
 "nbformat_minor": 4
}
