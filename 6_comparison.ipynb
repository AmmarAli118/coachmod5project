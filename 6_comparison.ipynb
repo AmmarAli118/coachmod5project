{
 "cells": [
  {
   "cell_type": "code",
   "execution_count": 1,
   "metadata": {},
   "outputs": [
    {
     "name": "stdout",
     "output_type": "stream",
     "text": [
      "The best accuracy score that we compared was 85.36 and was a result of the RF model\n",
      "The best f1 score that we compared was 67.86 and was a result from the RF model\n"
     ]
    }
   ],
   "source": [
    "%store -r\n",
    "\n",
    "comparison_dictionary = {\n",
    "    'accuracy':{\n",
    "        'KNN': knn['accuracy'],\n",
    "        'LR': lr['accuracy'],\n",
    "        'RF': rf['accuracy'],\n",
    "        'SVM': svm['accuracy'],\n",
    "    },\n",
    "    'f1':{\n",
    "        'KNN': knn['f1'],\n",
    "        'LR': lr['f1'],\n",
    "        'RF': rf['f1'],\n",
    "        'SVM': svm['f1'],\n",
    "    }\n",
    "}\n",
    "\n",
    "# compares accuracy between models\n",
    "high_accuracy = 0\n",
    "best_model = None\n",
    "for model, accuracy in comparison_dictionary['accuracy'].items():\n",
    "    if accuracy > high_accuracy:\n",
    "        high_accuracy = accuracy\n",
    "        best_model = model\n",
    "print(\"The best accuracy score that we compared was {} and was a result of the {} model\".format(high_accuracy, best_model))    \n",
    "\n",
    "# compares f1 between models\n",
    "high_f1 = 0\n",
    "best_model = None\n",
    "for model, f1 in comparison_dictionary['f1'].items():\n",
    "    if f1 > high_f1:\n",
    "        high_f1 = f1\n",
    "        best_model = model\n",
    "print(\"The best f1 score that we compared was {} and was a result from the {} model\".format(high_f1, best_model))    "
   ]
  },
  {
   "cell_type": "code",
   "execution_count": null,
   "metadata": {},
   "outputs": [],
   "source": []
  }
 ],
 "metadata": {
  "kernelspec": {
   "display_name": "Python 3",
   "language": "python",
   "name": "python3"
  },
  "language_info": {
   "codemirror_mode": {
    "name": "ipython",
    "version": 3
   },
   "file_extension": ".py",
   "mimetype": "text/x-python",
   "name": "python",
   "nbconvert_exporter": "python",
   "pygments_lexer": "ipython3",
   "version": "3.7.3"
  }
 },
 "nbformat": 4,
 "nbformat_minor": 4
}
