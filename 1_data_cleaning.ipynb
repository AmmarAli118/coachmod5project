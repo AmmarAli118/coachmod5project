{
 "cells": [
  {
   "cell_type": "code",
<<<<<<< HEAD
   "execution_count": 98,
=======
   "execution_count": 1,
>>>>>>> d5f7097c1022570cdfa166ecc517f218a54b682f
   "metadata": {
    "scrolled": true
   },
   "outputs": [],
   "source": [
    "import pandas as pd\n",
    "pd.set_option('display.max_columns', None)\n",
    "import missingno as msno\n",
    "from functions import *\n",
    "import seaborn as sns\n",
    "import matplotlib.pyplot as plt\n",
    "from scipy import stats\n",
    "\n",
    "from sklearn.model_selection import train_test_split\n",
    "\n",
    "import statsmodels.api as sm"
   ]
  },
  {
   "cell_type": "markdown",
   "metadata": {},
   "source": [
    "# Read in the Data w/ explicit column names"
   ]
  },
  {
   "cell_type": "code",
<<<<<<< HEAD
   "execution_count": 99,
=======
   "execution_count": 2,
>>>>>>> d5f7097c1022570cdfa166ecc517f218a54b682f
   "metadata": {
    "scrolled": true
   },
   "outputs": [],
   "source": [
    "column_names = ['age' , 'workclass' , 'fnlwgt' , 'education' , 'education_num' , 'marital_status' , 'occupation' , 'relationship' , 'race' , 'sex' , 'capital_gain' , 'capital_loss' , 'hours_per_week' , 'native_country', \"target\"]"
   ]
  },
  {
   "cell_type": "code",
<<<<<<< HEAD
   "execution_count": 100,
=======
   "execution_count": 3,
>>>>>>> d5f7097c1022570cdfa166ecc517f218a54b682f
   "metadata": {
    "scrolled": true
   },
   "outputs": [],
   "source": [
    "adultDF = pd.read_csv('./data/adult.data', index_col=False, names=column_names)"
   ]
  },
  {
   "cell_type": "markdown",
   "metadata": {},
   "source": [
    "# Clean the Data"
   ]
  },
  {
   "cell_type": "markdown",
   "metadata": {},
   "source": [
    "### Strip the data of all white space"
   ]
  },
  {
   "cell_type": "code",
<<<<<<< HEAD
   "execution_count": 101,
=======
   "execution_count": 4,
>>>>>>> d5f7097c1022570cdfa166ecc517f218a54b682f
   "metadata": {},
   "outputs": [
    {
     "name": "stdout",
     "output_type": "stream",
     "text": [
      "stripped leading/trailing spaces from all cells of string type\n"
     ]
    }
   ],
   "source": [
    "adultDF = strip_spaces(adultDF)"
   ]
  },
  {
   "cell_type": "markdown",
   "metadata": {},
   "source": [
    "## Explore and replace placeholders with Nan values"
   ]
  },
  {
   "cell_type": "code",
<<<<<<< HEAD
   "execution_count": 102,
=======
   "execution_count": 5,
   "metadata": {},
   "outputs": [
    {
     "name": "stdout",
     "output_type": "stream",
     "text": [
      "age\n",
      "[39 50 38 53 28 37 49 52 31 42 30 23 32 40 34 25 43 54 35 59 56 19 20 45\n",
      " 22 48 21 24 57 44 41 29 18 47 46 36 79 27 67 33 76 17 55 61 70 64 71 68\n",
      " 66 51 58 26 60 90 75 65 77 62 63 80 72 74 69 73 81 78 88 82 83 84 85 86\n",
      " 87]\n",
      "\n",
      "\n",
      "workclass\n",
      "['State-gov' 'Self-emp-not-inc' 'Private' 'Federal-gov' 'Local-gov' '?'\n",
      " 'Self-emp-inc' 'Without-pay' 'Never-worked']\n",
      "\n",
      "\n",
      "fnlwgt\n",
      "[ 77516  83311 215646 ...  34066  84661 257302]\n",
      "\n",
      "\n",
      "education\n",
      "['Bachelors' 'HS-grad' '11th' 'Masters' '9th' 'Some-college' 'Assoc-acdm'\n",
      " 'Assoc-voc' '7th-8th' 'Doctorate' 'Prof-school' '5th-6th' '10th'\n",
      " '1st-4th' 'Preschool' '12th']\n",
      "\n",
      "\n",
      "education_num\n",
      "[13  9  7 14  5 10 12 11  4 16 15  3  6  2  1  8]\n",
      "\n",
      "\n",
      "marital_status\n",
      "['Never-married' 'Married-civ-spouse' 'Divorced' 'Married-spouse-absent'\n",
      " 'Separated' 'Married-AF-spouse' 'Widowed']\n",
      "\n",
      "\n",
      "occupation\n",
      "['Adm-clerical' 'Exec-managerial' 'Handlers-cleaners' 'Prof-specialty'\n",
      " 'Other-service' 'Sales' 'Craft-repair' 'Transport-moving'\n",
      " 'Farming-fishing' 'Machine-op-inspct' 'Tech-support' '?'\n",
      " 'Protective-serv' 'Armed-Forces' 'Priv-house-serv']\n",
      "\n",
      "\n",
      "relationship\n",
      "['Not-in-family' 'Husband' 'Wife' 'Own-child' 'Unmarried' 'Other-relative']\n",
      "\n",
      "\n",
      "race\n",
      "['White' 'Black' 'Asian-Pac-Islander' 'Amer-Indian-Eskimo' 'Other']\n",
      "\n",
      "\n",
      "sex\n",
      "['Male' 'Female']\n",
      "\n",
      "\n",
      "capital_gain\n",
      "[ 2174     0 14084  5178  5013  2407 14344 15024  7688 34095  4064  4386\n",
      "  7298  1409  3674  1055  3464  2050  2176   594 20051  6849  4101  1111\n",
      "  8614  3411  2597 25236  4650  9386  2463  3103 10605  2964  3325  2580\n",
      "  3471  4865 99999  6514  1471  2329  2105  2885 25124 10520  2202  2961\n",
      " 27828  6767  2228  1506 13550  2635  5556  4787  3781  3137  3818  3942\n",
      "   914   401  2829  2977  4934  2062  2354  5455 15020  1424  3273 22040\n",
      "  4416  3908 10566   991  4931  1086  7430  6497   114  7896  2346  3418\n",
      "  3432  2907  1151  2414  2290 15831 41310  4508  2538  3456  6418  1848\n",
      "  3887  5721  9562  1455  2036  1831 11678  2936  2993  7443  6360  1797\n",
      "  1173  4687  6723  2009  6097  2653  1639 18481  7978  2387  5060]\n",
      "\n",
      "\n",
      "capital_loss\n",
      "[   0 2042 1408 1902 1573 1887 1719 1762 1564 2179 1816 1980 1977 1876\n",
      " 1340 2206 1741 1485 2339 2415 1380 1721 2051 2377 1669 2352 1672  653\n",
      " 2392 1504 2001 1590 1651 1628 1848 1740 2002 1579 2258 1602  419 2547\n",
      " 2174 2205 1726 2444 1138 2238  625  213 1539  880 1668 1092 1594 3004\n",
      " 2231 1844  810 2824 2559 2057 1974  974 2149 1825 1735 1258 2129 2603\n",
      " 2282  323 4356 2246 1617 1648 2489 3770 1755 3683 2267 2080 2457  155\n",
      " 3900 2201 1944 2467 2163 2754 2472 1411]\n",
      "\n",
      "\n",
      "hours_per_week\n",
      "[40 13 16 45 50 80 30 35 60 20 52 44 15 25 38 43 55 48 58 32 70  2 22 56\n",
      " 41 28 36 24 46 42 12 65  1 10 34 75 98 33 54  8  6 64 19 18 72  5  9 47\n",
      " 37 21 26 14  4 59  7 99 53 39 62 57 78 90 66 11 49 84  3 17 68 27 85 31\n",
      " 51 77 63 23 87 88 73 89 97 94 29 96 67 82 86 91 81 76 92 61 74 95]\n",
      "\n",
      "\n",
      "native_country\n",
      "['United-States' 'Cuba' 'Jamaica' 'India' '?' 'Mexico' 'South'\n",
      " 'Puerto-Rico' 'Honduras' 'England' 'Canada' 'Germany' 'Iran'\n",
      " 'Philippines' 'Italy' 'Poland' 'Columbia' 'Cambodia' 'Thailand' 'Ecuador'\n",
      " 'Laos' 'Taiwan' 'Haiti' 'Portugal' 'Dominican-Republic' 'El-Salvador'\n",
      " 'France' 'Guatemala' 'China' 'Japan' 'Yugoslavia' 'Peru'\n",
      " 'Outlying-US(Guam-USVI-etc)' 'Scotland' 'Trinadad&Tobago' 'Greece'\n",
      " 'Nicaragua' 'Vietnam' 'Hong' 'Ireland' 'Hungary' 'Holand-Netherlands']\n",
      "\n",
      "\n",
      "target\n",
      "['<=50K' '>50K']\n",
      "\n",
      "\n"
     ]
    }
   ],
   "source": [
    "for column in adultDF.columns:\n",
    "    print(column)\n",
    "    print(adultDF[column].unique())\n",
    "    print('\\n')"
   ]
  },
  {
   "cell_type": "markdown",
   "metadata": {},
   "source": [
    "### Replace all ? marks with NaN values"
   ]
  },
  {
   "cell_type": "code",
   "execution_count": 6,
>>>>>>> d5f7097c1022570cdfa166ecc517f218a54b682f
   "metadata": {},
   "outputs": [
    {
     "name": "stdout",
     "output_type": "stream",
     "text": [
      "Replaced ? values from these columns:['workclass', 'occupation', 'native_country']\n"
     ]
    }
   ],
   "source": [
    "columns_with_placeholders = ['workclass', 'occupation', 'native_country']\n",
    "adultDF = replace_column_w_nan(adultDF,columns_with_placeholders, \"?\")"
   ]
  },
  {
   "cell_type": "markdown",
   "metadata": {},
   "source": [
    "### Examine other potential placeholder values"
   ]
  },
  {
   "cell_type": "code",
<<<<<<< HEAD
   "execution_count": 103,
=======
   "execution_count": 7,
>>>>>>> d5f7097c1022570cdfa166ecc517f218a54b682f
   "metadata": {},
   "outputs": [
    {
     "data": {
      "text/html": [
       "<div>\n",
       "<style scoped>\n",
       "    .dataframe tbody tr th:only-of-type {\n",
       "        vertical-align: middle;\n",
       "    }\n",
       "\n",
       "    .dataframe tbody tr th {\n",
       "        vertical-align: top;\n",
       "    }\n",
       "\n",
       "    .dataframe thead th {\n",
       "        text-align: right;\n",
       "    }\n",
       "</style>\n",
       "<table border=\"1\" class=\"dataframe\">\n",
       "  <thead>\n",
       "    <tr style=\"text-align: right;\">\n",
       "      <th></th>\n",
       "      <th>age</th>\n",
       "      <th>fnlwgt</th>\n",
       "      <th>education_num</th>\n",
       "      <th>capital_gain</th>\n",
       "      <th>capital_loss</th>\n",
       "      <th>hours_per_week</th>\n",
       "    </tr>\n",
       "  </thead>\n",
       "  <tbody>\n",
       "    <tr>\n",
       "      <th>count</th>\n",
       "      <td>32561.000000</td>\n",
       "      <td>3.256100e+04</td>\n",
       "      <td>32561.000000</td>\n",
       "      <td>32561.000000</td>\n",
       "      <td>32561.000000</td>\n",
       "      <td>32561.000000</td>\n",
       "    </tr>\n",
       "    <tr>\n",
       "      <th>mean</th>\n",
       "      <td>38.581647</td>\n",
       "      <td>1.897784e+05</td>\n",
       "      <td>10.080679</td>\n",
       "      <td>1077.648844</td>\n",
       "      <td>87.303830</td>\n",
       "      <td>40.437456</td>\n",
       "    </tr>\n",
       "    <tr>\n",
       "      <th>std</th>\n",
       "      <td>13.640433</td>\n",
       "      <td>1.055500e+05</td>\n",
       "      <td>2.572720</td>\n",
       "      <td>7385.292085</td>\n",
       "      <td>402.960219</td>\n",
       "      <td>12.347429</td>\n",
       "    </tr>\n",
       "    <tr>\n",
       "      <th>min</th>\n",
       "      <td>17.000000</td>\n",
       "      <td>1.228500e+04</td>\n",
       "      <td>1.000000</td>\n",
       "      <td>0.000000</td>\n",
       "      <td>0.000000</td>\n",
       "      <td>1.000000</td>\n",
       "    </tr>\n",
       "    <tr>\n",
       "      <th>25%</th>\n",
       "      <td>28.000000</td>\n",
       "      <td>1.178270e+05</td>\n",
       "      <td>9.000000</td>\n",
       "      <td>0.000000</td>\n",
       "      <td>0.000000</td>\n",
       "      <td>40.000000</td>\n",
       "    </tr>\n",
       "    <tr>\n",
       "      <th>50%</th>\n",
       "      <td>37.000000</td>\n",
       "      <td>1.783560e+05</td>\n",
       "      <td>10.000000</td>\n",
       "      <td>0.000000</td>\n",
       "      <td>0.000000</td>\n",
       "      <td>40.000000</td>\n",
       "    </tr>\n",
       "    <tr>\n",
       "      <th>75%</th>\n",
       "      <td>48.000000</td>\n",
       "      <td>2.370510e+05</td>\n",
       "      <td>12.000000</td>\n",
       "      <td>0.000000</td>\n",
       "      <td>0.000000</td>\n",
       "      <td>45.000000</td>\n",
       "    </tr>\n",
       "    <tr>\n",
       "      <th>max</th>\n",
       "      <td>90.000000</td>\n",
       "      <td>1.484705e+06</td>\n",
       "      <td>16.000000</td>\n",
       "      <td>99999.000000</td>\n",
       "      <td>4356.000000</td>\n",
       "      <td>99.000000</td>\n",
       "    </tr>\n",
       "  </tbody>\n",
       "</table>\n",
       "</div>"
      ],
      "text/plain": [
       "                age        fnlwgt  education_num  capital_gain  capital_loss  \\\n",
       "count  32561.000000  3.256100e+04   32561.000000  32561.000000  32561.000000   \n",
       "mean      38.581647  1.897784e+05      10.080679   1077.648844     87.303830   \n",
       "std       13.640433  1.055500e+05       2.572720   7385.292085    402.960219   \n",
       "min       17.000000  1.228500e+04       1.000000      0.000000      0.000000   \n",
       "25%       28.000000  1.178270e+05       9.000000      0.000000      0.000000   \n",
       "50%       37.000000  1.783560e+05      10.000000      0.000000      0.000000   \n",
       "75%       48.000000  2.370510e+05      12.000000      0.000000      0.000000   \n",
       "max       90.000000  1.484705e+06      16.000000  99999.000000   4356.000000   \n",
       "\n",
       "       hours_per_week  \n",
       "count    32561.000000  \n",
       "mean        40.437456  \n",
       "std         12.347429  \n",
       "min          1.000000  \n",
       "25%         40.000000  \n",
       "50%         40.000000  \n",
       "75%         45.000000  \n",
       "max         99.000000  "
      ]
     },
<<<<<<< HEAD
     "execution_count": 103,
=======
     "execution_count": 7,
>>>>>>> d5f7097c1022570cdfa166ecc517f218a54b682f
     "metadata": {},
     "output_type": "execute_result"
    }
   ],
   "source": [
    "adultDF.describe()"
   ]
  },
  {
   "cell_type": "code",
<<<<<<< HEAD
   "execution_count": 104,
=======
   "execution_count": 8,
>>>>>>> d5f7097c1022570cdfa166ecc517f218a54b682f
   "metadata": {},
   "outputs": [
    {
     "name": "stdout",
     "output_type": "stream",
     "text": [
      "90    43\n",
      "88     3\n",
      "87     1\n",
      "86     1\n",
      "85     3\n",
      "Name: age, dtype: int64\n",
      "\n",
      "\n",
      "Without-pay            14\n",
      "State-gov            1298\n",
      "Self-emp-not-inc     2541\n",
      "Self-emp-inc         1116\n",
      "Private             22696\n",
      "Name: workclass, dtype: int64\n",
      "\n",
      "\n",
      "1484705    1\n",
      "1455435    1\n",
      "1366120    1\n",
      "1268339    1\n",
      "1226583    1\n",
      "Name: fnlwgt, dtype: int64\n",
      "\n",
      "\n",
      "Some-college     7291\n",
      "Prof-school       576\n",
      "Preschool          51\n",
      "Masters          1723\n",
      "HS-grad         10501\n",
      "Name: education, dtype: int64\n",
      "\n",
      "\n",
      "16     413\n",
      "15     576\n",
      "14    1723\n",
      "13    5355\n",
      "12    1067\n",
      "Name: education_num, dtype: int64\n",
      "\n",
      "\n",
      "Widowed                    993\n",
      "Separated                 1025\n",
      "Never-married            10683\n",
      "Married-spouse-absent      418\n",
      "Married-civ-spouse       14976\n",
      "Name: marital_status, dtype: int64\n",
      "\n",
      "\n",
      "Transport-moving    1597\n",
      "Tech-support         928\n",
      "Sales               3650\n",
      "Protective-serv      649\n",
      "Prof-specialty      4140\n",
      "Name: occupation, dtype: int64\n",
      "\n",
      "\n",
      "Wife              1568\n",
      "Unmarried         3446\n",
      "Own-child         5068\n",
      "Other-relative     981\n",
      "Not-in-family     8305\n",
      "Name: relationship, dtype: int64\n",
      "\n",
      "\n",
      "White                 27816\n",
      "Other                   271\n",
      "Black                  3124\n",
      "Asian-Pac-Islander     1039\n",
      "Amer-Indian-Eskimo      311\n",
      "Name: race, dtype: int64\n",
      "\n",
      "\n",
      "Male      21790\n",
      "Female    10771\n",
      "Name: sex, dtype: int64\n",
      "\n",
      "\n",
      "99999    159\n",
      "41310      2\n",
      "34095      5\n",
      "27828     34\n",
      "25236     11\n",
      "Name: capital_gain, dtype: int64\n",
      "\n",
      "\n",
      "4356    3\n",
      "3900    2\n",
      "3770    2\n",
      "3683    2\n",
      "3004    2\n",
      "Name: capital_loss, dtype: int64\n",
      "\n",
      "\n",
      "99    85\n",
      "98    11\n",
      "97     2\n",
      "96     5\n",
      "95     2\n",
      "Name: hours_per_week, dtype: int64\n",
      "\n",
      "\n",
      "Yugoslavia            16\n",
      "Vietnam               67\n",
      "United-States      29170\n",
      "Trinadad&Tobago       19\n",
      "Thailand              18\n",
      "Name: native_country, dtype: int64\n",
      "\n",
      "\n",
      ">50K      7841\n",
      "<=50K    24720\n",
      "Name: target, dtype: int64\n",
      "\n",
      "\n"
     ]
    }
   ],
   "source": [
    "for column in adultDF.columns:\n",
    "    print(adultDF[column].value_counts().sort_index(ascending=False)[:5])\n",
    "    print('\\n')"
   ]
  },
  {
   "cell_type": "markdown",
   "metadata": {},
   "source": [
    "From this report we can see that when it comes to columns like `capital_loss`, `hours_per_week`, and even `age`, although we see max values way past the 75th percentile, they aren't isolated instances. There are actually clusters of high values, which indicates that there might be a trend.\n",
    "\n",
    "On the other hand, the `capital_gain` column shows 159 instances of an isolated value of 99,999. The next closest value is 41k, which indicates that the value 99,999 is likely a placeholder that needs to be addressed."
   ]
  },
  {
   "cell_type": "code",
<<<<<<< HEAD
   "execution_count": 105,
=======
   "execution_count": 9,
>>>>>>> d5f7097c1022570cdfa166ecc517f218a54b682f
   "metadata": {},
   "outputs": [
    {
     "name": "stdout",
     "output_type": "stream",
     "text": [
      "Replaced 99999 values from these columns:['capital_gain']\n"
     ]
    }
   ],
   "source": [
    "adultDF = replace_column_w_nan(adultDF,['capital_gain'], 99999)\n",
    "columns_with_placeholders.append(\"capital_gain\")"
   ]
  },
  {
   "cell_type": "markdown",
   "metadata": {},
   "source": [
    "### Drop NaN rows"
   ]
  },
  {
   "cell_type": "code",
<<<<<<< HEAD
   "execution_count": 106,
=======
   "execution_count": 10,
>>>>>>> d5f7097c1022570cdfa166ecc517f218a54b682f
   "metadata": {},
   "outputs": [
    {
     "name": "stdout",
     "output_type": "stream",
     "text": [
      "The workclass column is missing 5.64% of rows\n",
      "The occupation column is missing 5.66% of rows\n",
      "The native_country column is missing 1.79% of rows\n",
      "The capital_gain column is missing 0.49% of rows\n"
     ]
    }
   ],
   "source": [
    "for column in columns_with_placeholders:\n",
    "    missing_values = adultDF[column].isna().sum()\n",
    "    total_rows = adultDF.shape[0]\n",
    "    percentage = missing_values / total_rows\n",
    "    percentage = round(percentage * 100, 2)\n",
    "    print(\"The {} column is missing {}% of rows\".format(column, percentage))"
   ]
  },
  {
   "cell_type": "markdown",
   "metadata": {},
   "source": [
    "Because of the results above, we can remove rows without affecting our data"
   ]
  },
  {
   "cell_type": "code",
<<<<<<< HEAD
   "execution_count": 107,
=======
   "execution_count": 11,
>>>>>>> d5f7097c1022570cdfa166ecc517f218a54b682f
   "metadata": {},
   "outputs": [
    {
     "name": "stdout",
     "output_type": "stream",
     "text": [
      "Removed NA rows from these columns:['workclass', 'occupation', 'native_country', 'capital_gain'].\n"
     ]
    }
   ],
   "source": [
    "adultDF = drop_na_rows(adultDF, columns_with_placeholders)"
   ]
  },
  {
   "cell_type": "markdown",
   "metadata": {},
   "source": [
    "### Drop Duplicates"
   ]
  },
  {
   "cell_type": "code",
<<<<<<< HEAD
   "execution_count": 108,
=======
   "execution_count": 12,
>>>>>>> d5f7097c1022570cdfa166ecc517f218a54b682f
   "metadata": {},
   "outputs": [
    {
     "data": {
      "text/plain": [
       "0.08"
      ]
     },
<<<<<<< HEAD
     "execution_count": 108,
=======
     "execution_count": 12,
>>>>>>> d5f7097c1022570cdfa166ecc517f218a54b682f
     "metadata": {},
     "output_type": "execute_result"
    }
   ],
   "source": [
    "round(adultDF.duplicated().sum()/adultDF.shape[0]*100, 2)"
   ]
  },
  {
   "cell_type": "markdown",
   "metadata": {},
   "source": [
    "because only .08% of our data is duplicated, we can remove these rows without much affect"
   ]
  },
  {
   "cell_type": "code",
<<<<<<< HEAD
   "execution_count": 109,
=======
   "execution_count": 13,
>>>>>>> d5f7097c1022570cdfa166ecc517f218a54b682f
   "metadata": {},
   "outputs": [
    {
     "name": "stdout",
     "output_type": "stream",
     "text": [
      "You're all clear of duplicates\n"
     ]
    }
   ],
   "source": [
    "adultDF = adultDF.drop_duplicates()\n",
    "check_duplicates(adultDF)"
   ]
  },
  {
   "cell_type": "markdown",
   "metadata": {},
   "source": [
    "# Review First Round of DataCleaning"
   ]
  },
  {
   "cell_type": "code",
<<<<<<< HEAD
   "execution_count": 110,
=======
   "execution_count": 14,
>>>>>>> d5f7097c1022570cdfa166ecc517f218a54b682f
   "metadata": {},
   "outputs": [
    {
     "data": {
      "text/plain": [
<<<<<<< HEAD
       "<matplotlib.axes._subplots.AxesSubplot at 0x1c29e64f98>"
      ]
     },
     "execution_count": 110,
=======
       "<matplotlib.axes._subplots.AxesSubplot at 0x1c282cfa58>"
      ]
     },
     "execution_count": 14,
>>>>>>> d5f7097c1022570cdfa166ecc517f218a54b682f
     "metadata": {},
     "output_type": "execute_result"
    },
    {
     "data": {
      "image/png": "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\n",
      "text/plain": [
       "<Figure size 1800x720 with 2 Axes>"
      ]
     },
     "metadata": {
      "needs_background": "light"
     },
     "output_type": "display_data"
    }
   ],
   "source": [
    "msno.matrix(adultDF)"
   ]
  },
  {
   "cell_type": "markdown",
   "metadata": {},
   "source": [
    "At this point, we have stripped all white spaces, removed 24 duplicates, replaced '?' and '99,999' values with NaNs, and finally dropped all rows with missing values.\n",
    "\n",
    "We don't see a need to drop any columns for cleaned data - we'll leave that for the model notebook to determine which columns are relevant or not. "
   ]
  },
  {
   "cell_type": "markdown",
   "metadata": {},
   "source": [
    "## Change target to binary column"
   ]
  },
  {
   "cell_type": "code",
<<<<<<< HEAD
   "execution_count": 111,
=======
   "execution_count": 15,
>>>>>>> d5f7097c1022570cdfa166ecc517f218a54b682f
   "metadata": {},
   "outputs": [
    {
     "data": {
      "text/plain": [
       "array(['<=50K', '>50K'], dtype=object)"
      ]
     },
<<<<<<< HEAD
     "execution_count": 111,
=======
     "execution_count": 15,
>>>>>>> d5f7097c1022570cdfa166ecc517f218a54b682f
     "metadata": {},
     "output_type": "execute_result"
    }
   ],
   "source": [
    "adultDF.target.unique()"
   ]
  },
  {
   "cell_type": "code",
<<<<<<< HEAD
   "execution_count": 112,
=======
   "execution_count": 16,
>>>>>>> d5f7097c1022570cdfa166ecc517f218a54b682f
   "metadata": {},
   "outputs": [],
   "source": [
    "adultDF.target = adultDF.target.map(lambda x: np.where(x == '>50K', 1, 0))"
   ]
  },
  {
   "cell_type": "code",
<<<<<<< HEAD
   "execution_count": 113,
=======
   "execution_count": 17,
>>>>>>> d5f7097c1022570cdfa166ecc517f218a54b682f
   "metadata": {},
   "outputs": [
    {
     "data": {
      "text/plain": [
       "array([0, 1])"
      ]
     },
<<<<<<< HEAD
     "execution_count": 113,
=======
     "execution_count": 17,
>>>>>>> d5f7097c1022570cdfa166ecc517f218a54b682f
     "metadata": {},
     "output_type": "execute_result"
    }
   ],
   "source": [
    "adultDF.target.unique()"
   ]
  },
  {
   "cell_type": "markdown",
   "metadata": {},
   "source": [
    "#### We have an imbalanced class problem below"
   ]
  },
  {
   "cell_type": "code",
<<<<<<< HEAD
   "execution_count": 114,
=======
   "execution_count": 18,
>>>>>>> d5f7097c1022570cdfa166ecc517f218a54b682f
   "metadata": {},
   "outputs": [
    {
     "data": {
      "text/plain": [
       "0    0.75466\n",
       "1    0.24534\n",
       "Name: target, dtype: float64"
      ]
     },
<<<<<<< HEAD
     "execution_count": 114,
=======
     "execution_count": 18,
>>>>>>> d5f7097c1022570cdfa166ecc517f218a54b682f
     "metadata": {},
     "output_type": "execute_result"
    }
   ],
   "source": [
    "adultDF.target.value_counts(normalize=True)"
   ]
  },
  {
   "cell_type": "markdown",
   "metadata": {},
   "source": [
    "# Train_Test_Split Data"
   ]
  },
  {
   "cell_type": "markdown",
   "metadata": {},
   "source": [
    "### We are going to dummify our categorical columns in the dataframe"
   ]
  },
  {
   "cell_type": "code",
<<<<<<< HEAD
   "execution_count": 115,
=======
   "execution_count": 19,
>>>>>>> d5f7097c1022570cdfa166ecc517f218a54b682f
   "metadata": {},
   "outputs": [],
   "source": [
    "categorical_columns = ['workclass', 'education', 'occupation', 'relationship', 'race', 'sex', 'marital_status', 'native_country']"
   ]
  },
  {
   "cell_type": "code",
<<<<<<< HEAD
   "execution_count": 116,
=======
   "execution_count": 20,
>>>>>>> d5f7097c1022570cdfa166ecc517f218a54b682f
   "metadata": {},
   "outputs": [],
   "source": [
    "dummy_df = pd.get_dummies(adultDF,columns=categorical_columns)"
   ]
  },
  {
   "cell_type": "code",
<<<<<<< HEAD
   "execution_count": 117,
=======
   "execution_count": 21,
>>>>>>> d5f7097c1022570cdfa166ecc517f218a54b682f
   "metadata": {},
   "outputs": [],
   "source": [
    "dummy_col_list = list(dummy_df.columns)"
   ]
  },
  {
   "cell_type": "code",
<<<<<<< HEAD
   "execution_count": 118,
=======
   "execution_count": 22,
>>>>>>> d5f7097c1022570cdfa166ecc517f218a54b682f
   "metadata": {
    "scrolled": true
   },
   "outputs": [],
   "source": [
    "from sklearn.preprocessing import StandardScaler\n",
    "ss = StandardScaler()\n",
    "X = pd.DataFrame(ss.fit_transform(dummy_df.drop([\"target\"], axis=1)),\n",
    "                 columns=dummy_col_list.remove('target'))\n",
    "\n",
    "y = dummy_df.target"
   ]
  },
  {
   "cell_type": "code",
   "execution_count": 23,
   "metadata": {},
   "outputs": [],
   "source": [
<<<<<<< HEAD
    "# X = dummy_df.loc[:, dummy_df.columns != 'target']\n",
    "# y = dummy_df.target"
=======
    "X = dummy_df.loc[:, dummy_df.columns != 'target']\n",
    "y = dummy_df.target"
   ]
  },
  {
   "cell_type": "code",
   "execution_count": 24,
   "metadata": {},
   "outputs": [
    {
     "data": {
      "text/plain": [
       "0    22633\n",
       "1     7358\n",
       "Name: target, dtype: int64"
      ]
     },
     "execution_count": 24,
     "metadata": {},
     "output_type": "execute_result"
    }
   ],
   "source": [
    "y.value_counts()"
>>>>>>> d5f7097c1022570cdfa166ecc517f218a54b682f
   ]
  },
  {
   "cell_type": "code",
<<<<<<< HEAD
   "execution_count": 120,
=======
   "execution_count": 25,
>>>>>>> d5f7097c1022570cdfa166ecc517f218a54b682f
   "metadata": {},
   "outputs": [],
   "source": [
    "X_train, X_test, y_train, y_test = train_test_split(X, y, test_size = 0.2, random_state=40,stratify=y)"
   ]
  },
  {
   "cell_type": "code",
<<<<<<< HEAD
   "execution_count": 138,
=======
   "execution_count": 26,
   "metadata": {},
   "outputs": [
    {
     "data": {
      "text/plain": [
       "0"
      ]
     },
     "execution_count": 26,
     "metadata": {},
     "output_type": "execute_result"
    }
   ],
   "source": [
    "y_test.isna().sum().sum()"
   ]
  },
  {
   "cell_type": "code",
   "execution_count": 27,
>>>>>>> d5f7097c1022570cdfa166ecc517f218a54b682f
   "metadata": {},
   "outputs": [],
   "source": [
    "pickled_df= pd.to_pickle(dummy_df, './data/cleaned_df.pkl')\n",
    "\n",
    "X_train_pickle= pd.to_pickle(X_train, './data/X_train_pickle.pkl')\n",
    "\n",
    "X_test_pickle= pd.to_pickle(X_test, './data/X_test_pickle.pkl')\n",
    "\n",
    "y_train_pickle= pd.to_pickle(y_train, './data/y_train_pickle.pkl')\n",
    "\n",
    "y_test_pickle= pd.to_pickle(y_test, './data/y_test_pickle.pkl')"
   ]
  },
  {
   "cell_type": "code",
   "execution_count": null,
   "metadata": {},
   "outputs": [],
   "source": []
  }
 ],
 "metadata": {
  "kernelspec": {
   "display_name": "Python 3",
   "language": "python",
   "name": "python3"
  },
  "language_info": {
   "codemirror_mode": {
    "name": "ipython",
    "version": 3
   },
   "file_extension": ".py",
   "mimetype": "text/x-python",
   "name": "python",
   "nbconvert_exporter": "python",
   "pygments_lexer": "ipython3",
   "version": "3.7.3"
  }
 },
 "nbformat": 4,
 "nbformat_minor": 4
}
